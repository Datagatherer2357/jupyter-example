{
 "cells": [
  {
   "cell_type": "markdown",
   "metadata": {},
   "source": [
    "# Dogs"
   ]
  },
  {
   "cell_type": "code",
   "execution_count": 1,
   "metadata": {},
   "outputs": [
    {
     "name": "stderr",
     "output_type": "stream",
     "text": [
      "Using TensorFlow backend.\n"
     ]
    }
   ],
   "source": [
    "# For neural networks.\n",
    "import keras as kr\n",
    "# For data frames.\n",
    "import pandas as pd\n",
    "# For numerical arrays.\n",
    "import numpy as np\n",
    "# For preprocessing data.\n",
    "import sklearn.preprocessing as pre\n",
    "# For splitting data sets.\n",
    "import sklearn.model_selection as mod\n",
    "# For whitening.\n",
    "import sklearn.decomposition as dec"
   ]
  },
  {
   "cell_type": "markdown",
   "metadata": {},
   "source": [
    "## Preparing"
   ]
  },
  {
   "cell_type": "code",
   "execution_count": 2,
   "metadata": {},
   "outputs": [
    {
     "data": {
      "text/html": [
       "<div>\n",
       "<style scoped>\n",
       "    .dataframe tbody tr th:only-of-type {\n",
       "        vertical-align: middle;\n",
       "    }\n",
       "\n",
       "    .dataframe tbody tr th {\n",
       "        vertical-align: top;\n",
       "    }\n",
       "\n",
       "    .dataframe thead th {\n",
       "        text-align: right;\n",
       "    }\n",
       "</style>\n",
       "<table border=\"1\" class=\"dataframe\">\n",
       "  <thead>\n",
       "    <tr style=\"text-align: right;\">\n",
       "      <th></th>\n",
       "      <th>pure</th>\n",
       "      <th>age</th>\n",
       "      <th>weight</th>\n",
       "      <th>height</th>\n",
       "      <th>lifespan</th>\n",
       "    </tr>\n",
       "  </thead>\n",
       "  <tbody>\n",
       "    <tr>\n",
       "      <th>0</th>\n",
       "      <td>True</td>\n",
       "      <td>3</td>\n",
       "      <td>7.94</td>\n",
       "      <td>49.6</td>\n",
       "      <td>15</td>\n",
       "    </tr>\n",
       "    <tr>\n",
       "      <th>1</th>\n",
       "      <td>True</td>\n",
       "      <td>7</td>\n",
       "      <td>5.05</td>\n",
       "      <td>63.5</td>\n",
       "      <td>17</td>\n",
       "    </tr>\n",
       "    <tr>\n",
       "      <th>2</th>\n",
       "      <td>True</td>\n",
       "      <td>6</td>\n",
       "      <td>16.15</td>\n",
       "      <td>68.2</td>\n",
       "      <td>11</td>\n",
       "    </tr>\n",
       "    <tr>\n",
       "      <th>3</th>\n",
       "      <td>False</td>\n",
       "      <td>3</td>\n",
       "      <td>15.50</td>\n",
       "      <td>64.7</td>\n",
       "      <td>12</td>\n",
       "    </tr>\n",
       "    <tr>\n",
       "      <th>4</th>\n",
       "      <td>False</td>\n",
       "      <td>3</td>\n",
       "      <td>12.17</td>\n",
       "      <td>59.7</td>\n",
       "      <td>14</td>\n",
       "    </tr>\n",
       "    <tr>\n",
       "      <th>...</th>\n",
       "      <td>...</td>\n",
       "      <td>...</td>\n",
       "      <td>...</td>\n",
       "      <td>...</td>\n",
       "      <td>...</td>\n",
       "    </tr>\n",
       "    <tr>\n",
       "      <th>95</th>\n",
       "      <td>False</td>\n",
       "      <td>4</td>\n",
       "      <td>20.76</td>\n",
       "      <td>52.2</td>\n",
       "      <td>10</td>\n",
       "    </tr>\n",
       "    <tr>\n",
       "      <th>96</th>\n",
       "      <td>False</td>\n",
       "      <td>4</td>\n",
       "      <td>17.40</td>\n",
       "      <td>47.5</td>\n",
       "      <td>11</td>\n",
       "    </tr>\n",
       "    <tr>\n",
       "      <th>97</th>\n",
       "      <td>False</td>\n",
       "      <td>6</td>\n",
       "      <td>15.60</td>\n",
       "      <td>51.4</td>\n",
       "      <td>12</td>\n",
       "    </tr>\n",
       "    <tr>\n",
       "      <th>98</th>\n",
       "      <td>False</td>\n",
       "      <td>3</td>\n",
       "      <td>8.37</td>\n",
       "      <td>54.1</td>\n",
       "      <td>16</td>\n",
       "    </tr>\n",
       "    <tr>\n",
       "      <th>99</th>\n",
       "      <td>True</td>\n",
       "      <td>7</td>\n",
       "      <td>9.09</td>\n",
       "      <td>50.3</td>\n",
       "      <td>14</td>\n",
       "    </tr>\n",
       "  </tbody>\n",
       "</table>\n",
       "<p>100 rows × 5 columns</p>\n",
       "</div>"
      ],
      "text/plain": [
       "     pure  age  weight  height  lifespan\n",
       "0    True    3    7.94    49.6        15\n",
       "1    True    7    5.05    63.5        17\n",
       "2    True    6   16.15    68.2        11\n",
       "3   False    3   15.50    64.7        12\n",
       "4   False    3   12.17    59.7        14\n",
       "..    ...  ...     ...     ...       ...\n",
       "95  False    4   20.76    52.2        10\n",
       "96  False    4   17.40    47.5        11\n",
       "97  False    6   15.60    51.4        12\n",
       "98  False    3    8.37    54.1        16\n",
       "99   True    7    9.09    50.3        14\n",
       "\n",
       "[100 rows x 5 columns]"
      ]
     },
     "execution_count": 2,
     "metadata": {},
     "output_type": "execute_result"
    }
   ],
   "source": [
    "df = pd.read_csv(\"https://raw.githubusercontent.com/ianmcloughlin/datasets/master/dogs.csv\")\n",
    "df"
   ]
  },
  {
   "cell_type": "code",
   "execution_count": 3,
   "metadata": {},
   "outputs": [],
   "source": [
    "pureenc = pre.LabelBinarizer()\n",
    "pureenc.fit(df['pure'])\n",
    "df['pureenc'] = pureenc.transform(df['pure'])"
   ]
  },
  {
   "cell_type": "code",
   "execution_count": 4,
   "metadata": {},
   "outputs": [],
   "source": [
    "x = df[['pureenc', 'age', 'weight', 'height']]\n",
    "y = df['lifespan']"
   ]
  },
  {
   "cell_type": "code",
   "execution_count": 5,
   "metadata": {},
   "outputs": [
    {
     "data": {
      "text/html": [
       "<div>\n",
       "<style scoped>\n",
       "    .dataframe tbody tr th:only-of-type {\n",
       "        vertical-align: middle;\n",
       "    }\n",
       "\n",
       "    .dataframe tbody tr th {\n",
       "        vertical-align: top;\n",
       "    }\n",
       "\n",
       "    .dataframe thead th {\n",
       "        text-align: right;\n",
       "    }\n",
       "</style>\n",
       "<table border=\"1\" class=\"dataframe\">\n",
       "  <thead>\n",
       "    <tr style=\"text-align: right;\">\n",
       "      <th></th>\n",
       "      <th>pureenc</th>\n",
       "      <th>age</th>\n",
       "      <th>weight</th>\n",
       "      <th>height</th>\n",
       "    </tr>\n",
       "  </thead>\n",
       "  <tbody>\n",
       "    <tr>\n",
       "      <th>0</th>\n",
       "      <td>1</td>\n",
       "      <td>3</td>\n",
       "      <td>7.94</td>\n",
       "      <td>49.6</td>\n",
       "    </tr>\n",
       "    <tr>\n",
       "      <th>1</th>\n",
       "      <td>1</td>\n",
       "      <td>7</td>\n",
       "      <td>5.05</td>\n",
       "      <td>63.5</td>\n",
       "    </tr>\n",
       "    <tr>\n",
       "      <th>2</th>\n",
       "      <td>1</td>\n",
       "      <td>6</td>\n",
       "      <td>16.15</td>\n",
       "      <td>68.2</td>\n",
       "    </tr>\n",
       "    <tr>\n",
       "      <th>3</th>\n",
       "      <td>0</td>\n",
       "      <td>3</td>\n",
       "      <td>15.50</td>\n",
       "      <td>64.7</td>\n",
       "    </tr>\n",
       "    <tr>\n",
       "      <th>4</th>\n",
       "      <td>0</td>\n",
       "      <td>3</td>\n",
       "      <td>12.17</td>\n",
       "      <td>59.7</td>\n",
       "    </tr>\n",
       "    <tr>\n",
       "      <th>...</th>\n",
       "      <td>...</td>\n",
       "      <td>...</td>\n",
       "      <td>...</td>\n",
       "      <td>...</td>\n",
       "    </tr>\n",
       "    <tr>\n",
       "      <th>95</th>\n",
       "      <td>0</td>\n",
       "      <td>4</td>\n",
       "      <td>20.76</td>\n",
       "      <td>52.2</td>\n",
       "    </tr>\n",
       "    <tr>\n",
       "      <th>96</th>\n",
       "      <td>0</td>\n",
       "      <td>4</td>\n",
       "      <td>17.40</td>\n",
       "      <td>47.5</td>\n",
       "    </tr>\n",
       "    <tr>\n",
       "      <th>97</th>\n",
       "      <td>0</td>\n",
       "      <td>6</td>\n",
       "      <td>15.60</td>\n",
       "      <td>51.4</td>\n",
       "    </tr>\n",
       "    <tr>\n",
       "      <th>98</th>\n",
       "      <td>0</td>\n",
       "      <td>3</td>\n",
       "      <td>8.37</td>\n",
       "      <td>54.1</td>\n",
       "    </tr>\n",
       "    <tr>\n",
       "      <th>99</th>\n",
       "      <td>1</td>\n",
       "      <td>7</td>\n",
       "      <td>9.09</td>\n",
       "      <td>50.3</td>\n",
       "    </tr>\n",
       "  </tbody>\n",
       "</table>\n",
       "<p>100 rows × 4 columns</p>\n",
       "</div>"
      ],
      "text/plain": [
       "    pureenc  age  weight  height\n",
       "0         1    3    7.94    49.6\n",
       "1         1    7    5.05    63.5\n",
       "2         1    6   16.15    68.2\n",
       "3         0    3   15.50    64.7\n",
       "4         0    3   12.17    59.7\n",
       "..      ...  ...     ...     ...\n",
       "95        0    4   20.76    52.2\n",
       "96        0    4   17.40    47.5\n",
       "97        0    6   15.60    51.4\n",
       "98        0    3    8.37    54.1\n",
       "99        1    7    9.09    50.3\n",
       "\n",
       "[100 rows x 4 columns]"
      ]
     },
     "execution_count": 5,
     "metadata": {},
     "output_type": "execute_result"
    }
   ],
   "source": [
    "x"
   ]
  },
  {
   "cell_type": "code",
   "execution_count": 6,
   "metadata": {},
   "outputs": [
    {
     "data": {
      "text/plain": [
       "0     15\n",
       "1     17\n",
       "2     11\n",
       "3     12\n",
       "4     14\n",
       "      ..\n",
       "95    10\n",
       "96    11\n",
       "97    12\n",
       "98    16\n",
       "99    14\n",
       "Name: lifespan, Length: 100, dtype: int64"
      ]
     },
     "execution_count": 6,
     "metadata": {},
     "output_type": "execute_result"
    }
   ],
   "source": [
    "y"
   ]
  },
  {
   "cell_type": "code",
   "execution_count": 7,
   "metadata": {},
   "outputs": [],
   "source": [
    "x_train, x_test, y_train, y_test = mod.train_test_split(x, y, test_size=0.3)"
   ]
  },
  {
   "cell_type": "markdown",
   "metadata": {},
   "source": [
    "## Building and training"
   ]
  },
  {
   "cell_type": "code",
   "execution_count": 8,
   "metadata": {},
   "outputs": [
    {
     "name": "stdout",
     "output_type": "stream",
     "text": [
      "WARNING:tensorflow:From C:\\Users\\mclou\\Anaconda3\\lib\\site-packages\\keras\\backend\\tensorflow_backend.py:74: The name tf.get_default_graph is deprecated. Please use tf.compat.v1.get_default_graph instead.\n",
      "\n",
      "WARNING:tensorflow:From C:\\Users\\mclou\\Anaconda3\\lib\\site-packages\\keras\\backend\\tensorflow_backend.py:517: The name tf.placeholder is deprecated. Please use tf.compat.v1.placeholder instead.\n",
      "\n",
      "WARNING:tensorflow:From C:\\Users\\mclou\\Anaconda3\\lib\\site-packages\\keras\\backend\\tensorflow_backend.py:4138: The name tf.random_uniform is deprecated. Please use tf.random.uniform instead.\n",
      "\n",
      "WARNING:tensorflow:From C:\\Users\\mclou\\Anaconda3\\lib\\site-packages\\keras\\optimizers.py:790: The name tf.train.Optimizer is deprecated. Please use tf.compat.v1.train.Optimizer instead.\n",
      "\n"
     ]
    }
   ],
   "source": [
    "m = kr.models.Sequential()\n",
    "\n",
    "m.add(kr.layers.Dense(20, input_dim=4, activation=\"relu\"))\n",
    "m.add(kr.layers.Dense(1, activation=\"linear\"))\n",
    "\n",
    "m.compile(loss=\"mean_squared_error\", optimizer=\"adam\")"
   ]
  },
  {
   "cell_type": "code",
   "execution_count": 9,
   "metadata": {},
   "outputs": [
    {
     "name": "stdout",
     "output_type": "stream",
     "text": [
      "WARNING:tensorflow:From C:\\Users\\mclou\\Anaconda3\\lib\\site-packages\\keras\\backend\\tensorflow_backend.py:986: The name tf.assign_add is deprecated. Please use tf.compat.v1.assign_add instead.\n",
      "\n",
      "WARNING:tensorflow:From C:\\Users\\mclou\\Anaconda3\\lib\\site-packages\\keras\\backend\\tensorflow_backend.py:973: The name tf.assign is deprecated. Please use tf.compat.v1.assign instead.\n",
      "\n",
      "WARNING:tensorflow:From C:\\Users\\mclou\\Anaconda3\\lib\\site-packages\\keras\\backend\\tensorflow_backend.py:2741: The name tf.Session is deprecated. Please use tf.compat.v1.Session instead.\n",
      "\n",
      "Epoch 1/100\n",
      "WARNING:tensorflow:From C:\\Users\\mclou\\Anaconda3\\lib\\site-packages\\keras\\backend\\tensorflow_backend.py:174: The name tf.get_default_session is deprecated. Please use tf.compat.v1.get_default_session instead.\n",
      "\n",
      "WARNING:tensorflow:From C:\\Users\\mclou\\Anaconda3\\lib\\site-packages\\keras\\backend\\tensorflow_backend.py:181: The name tf.ConfigProto is deprecated. Please use tf.compat.v1.ConfigProto instead.\n",
      "\n",
      "WARNING:tensorflow:From C:\\Users\\mclou\\Anaconda3\\lib\\site-packages\\keras\\backend\\tensorflow_backend.py:190: The name tf.global_variables is deprecated. Please use tf.compat.v1.global_variables instead.\n",
      "\n",
      "WARNING:tensorflow:From C:\\Users\\mclou\\Anaconda3\\lib\\site-packages\\keras\\backend\\tensorflow_backend.py:199: The name tf.is_variable_initialized is deprecated. Please use tf.compat.v1.is_variable_initialized instead.\n",
      "\n",
      "WARNING:tensorflow:From C:\\Users\\mclou\\Anaconda3\\lib\\site-packages\\keras\\backend\\tensorflow_backend.py:206: The name tf.variables_initializer is deprecated. Please use tf.compat.v1.variables_initializer instead.\n",
      "\n",
      "70/70 [==============================] - 0s 6ms/step - loss: 175.8444\n",
      "Epoch 2/100\n",
      "70/70 [==============================] - 0s 100us/step - loss: 123.7820\n",
      "Epoch 3/100\n",
      "70/70 [==============================] - 0s 129us/step - loss: 83.6754\n",
      "Epoch 4/100\n",
      "70/70 [==============================] - 0s 171us/step - loss: 53.2582\n",
      "Epoch 5/100\n",
      "70/70 [==============================] - 0s 85us/step - loss: 34.8661\n",
      "Epoch 6/100\n",
      "70/70 [==============================] - 0s 129us/step - loss: 23.9039\n",
      "Epoch 7/100\n",
      "70/70 [==============================] - 0s 100us/step - loss: 18.7403\n",
      "Epoch 8/100\n",
      "70/70 [==============================] - 0s 186us/step - loss: 16.5571\n",
      "Epoch 9/100\n",
      "70/70 [==============================] - 0s 129us/step - loss: 15.8359\n",
      "Epoch 10/100\n",
      "70/70 [==============================] - 0s 157us/step - loss: 15.8823\n",
      "Epoch 11/100\n",
      "70/70 [==============================] - 0s 257us/step - loss: 15.7769\n",
      "Epoch 12/100\n",
      "70/70 [==============================] - 0s 286us/step - loss: 15.6105\n",
      "Epoch 13/100\n",
      "70/70 [==============================] - 0s 343us/step - loss: 15.3868\n",
      "Epoch 14/100\n",
      "70/70 [==============================] - 0s 243us/step - loss: 15.1033\n",
      "Epoch 15/100\n",
      "70/70 [==============================] - 0s 314us/step - loss: 15.0025\n",
      "Epoch 16/100\n",
      "70/70 [==============================] - 0s 300us/step - loss: 14.7335\n",
      "Epoch 17/100\n",
      "70/70 [==============================] - 0s 300us/step - loss: 14.5185\n",
      "Epoch 18/100\n",
      "70/70 [==============================] - 0s 457us/step - loss: 14.3430\n",
      "Epoch 19/100\n",
      "70/70 [==============================] - 0s 400us/step - loss: 14.1648\n",
      "Epoch 20/100\n",
      "70/70 [==============================] - 0s 214us/step - loss: 13.9567\n",
      "Epoch 21/100\n",
      "70/70 [==============================] - 0s 300us/step - loss: 13.7904\n",
      "Epoch 22/100\n",
      "70/70 [==============================] - 0s 229us/step - loss: 13.5968\n",
      "Epoch 23/100\n",
      "70/70 [==============================] - 0s 200us/step - loss: 13.4121\n",
      "Epoch 24/100\n",
      "70/70 [==============================] - 0s 286us/step - loss: 13.2611\n",
      "Epoch 25/100\n",
      "70/70 [==============================] - 0s 186us/step - loss: 13.1249\n",
      "Epoch 26/100\n",
      "70/70 [==============================] - 0s 371us/step - loss: 12.9753\n",
      "Epoch 27/100\n",
      "70/70 [==============================] - 0s 214us/step - loss: 12.8412\n",
      "Epoch 28/100\n",
      "70/70 [==============================] - 0s 257us/step - loss: 12.6698\n",
      "Epoch 29/100\n",
      "70/70 [==============================] - 0s 329us/step - loss: 12.5236\n",
      "Epoch 30/100\n",
      "70/70 [==============================] - 0s 286us/step - loss: 12.3460\n",
      "Epoch 31/100\n",
      "70/70 [==============================] - 0s 493us/step - loss: 12.2387\n",
      "Epoch 32/100\n",
      "70/70 [==============================] - 0s 614us/step - loss: 12.0868\n",
      "Epoch 33/100\n",
      "70/70 [==============================] - 0s 371us/step - loss: 11.9794\n",
      "Epoch 34/100\n",
      "70/70 [==============================] - 0s 300us/step - loss: 11.8060\n",
      "Epoch 35/100\n",
      "70/70 [==============================] - 0s 300us/step - loss: 11.6693\n",
      "Epoch 36/100\n",
      "70/70 [==============================] - 0s 343us/step - loss: 11.5652\n",
      "Epoch 37/100\n",
      "70/70 [==============================] - 0s 300us/step - loss: 11.4002\n",
      "Epoch 38/100\n",
      "70/70 [==============================] - 0s 286us/step - loss: 11.3593\n",
      "Epoch 39/100\n",
      "70/70 [==============================] - 0s 586us/step - loss: 11.1517\n",
      "Epoch 40/100\n",
      "70/70 [==============================] - 0s 343us/step - loss: 11.0413\n",
      "Epoch 41/100\n",
      "70/70 [==============================] - 0s 600us/step - loss: 10.8884\n",
      "Epoch 42/100\n",
      "70/70 [==============================] - 0s 600us/step - loss: 10.8218\n",
      "Epoch 43/100\n",
      "70/70 [==============================] - 0s 257us/step - loss: 10.6129\n",
      "Epoch 44/100\n",
      "70/70 [==============================] - ETA: 0s - loss: 9.629 - 0s 514us/step - loss: 10.4748\n",
      "Epoch 45/100\n",
      "70/70 [==============================] - 0s 565us/step - loss: 10.3218\n",
      "Epoch 46/100\n",
      "70/70 [==============================] - 0s 400us/step - loss: 10.1834\n",
      "Epoch 47/100\n",
      "70/70 [==============================] - 0s 271us/step - loss: 10.0118\n",
      "Epoch 48/100\n",
      "70/70 [==============================] - 0s 171us/step - loss: 9.8751\n",
      "Epoch 49/100\n",
      "70/70 [==============================] - 0s 442us/step - loss: 9.8094\n",
      "Epoch 50/100\n",
      "70/70 [==============================] - 0s 429us/step - loss: 9.6740\n",
      "Epoch 51/100\n",
      "70/70 [==============================] - 0s 157us/step - loss: 9.6417\n",
      "Epoch 52/100\n",
      "70/70 [==============================] - 0s 758us/step - loss: 9.4586\n",
      "Epoch 53/100\n",
      "70/70 [==============================] - 0s 414us/step - loss: 9.3724\n",
      "Epoch 54/100\n",
      "70/70 [==============================] - 0s 500us/step - loss: 9.1701\n",
      "Epoch 55/100\n",
      "70/70 [==============================] - 0s 271us/step - loss: 9.0913\n",
      "Epoch 56/100\n",
      "70/70 [==============================] - 0s 329us/step - loss: 8.9257\n",
      "Epoch 57/100\n",
      "70/70 [==============================] - 0s 457us/step - loss: 8.8120\n",
      "Epoch 58/100\n",
      "70/70 [==============================] - 0s 229us/step - loss: 8.6985\n",
      "Epoch 59/100\n",
      "70/70 [==============================] - 0s 214us/step - loss: 8.6367\n",
      "Epoch 60/100\n",
      "70/70 [==============================] - 0s 457us/step - loss: 8.5720\n",
      "Epoch 61/100\n",
      "70/70 [==============================] - 0s 557us/step - loss: 8.5610\n",
      "Epoch 62/100\n",
      "70/70 [==============================] - 0s 414us/step - loss: 8.4602\n",
      "Epoch 63/100\n",
      "70/70 [==============================] - 0s 343us/step - loss: 8.4816\n",
      "Epoch 64/100\n",
      "70/70 [==============================] - 0s 243us/step - loss: 8.3879\n",
      "Epoch 65/100\n",
      "70/70 [==============================] - 0s 614us/step - loss: 8.3417\n",
      "Epoch 66/100\n",
      "70/70 [==============================] - 0s 243us/step - loss: 8.3209\n",
      "Epoch 67/100\n",
      "70/70 [==============================] - 0s 401us/step - loss: 8.3127\n",
      "Epoch 68/100\n",
      "70/70 [==============================] - 0s 757us/step - loss: 8.3145\n",
      "Epoch 69/100\n",
      "70/70 [==============================] - 0s 846us/step - loss: 8.1688\n",
      "Epoch 70/100\n",
      "70/70 [==============================] - 0s 543us/step - loss: 8.1188\n",
      "Epoch 71/100\n",
      "70/70 [==============================] - 0s 271us/step - loss: 8.0742\n",
      "Epoch 72/100\n",
      "70/70 [==============================] - 0s 257us/step - loss: 8.0471\n",
      "Epoch 73/100\n",
      "70/70 [==============================] - 0s 214us/step - loss: 8.0251\n",
      "Epoch 74/100\n",
      "70/70 [==============================] - 0s 314us/step - loss: 8.0012\n",
      "Epoch 75/100\n",
      "70/70 [==============================] - 0s 314us/step - loss: 7.9606\n",
      "Epoch 76/100\n",
      "70/70 [==============================] - 0s 329us/step - loss: 7.9063\n",
      "Epoch 77/100\n",
      "70/70 [==============================] - 0s 271us/step - loss: 7.8958\n",
      "Epoch 78/100\n",
      "70/70 [==============================] - 0s 314us/step - loss: 7.9650\n",
      "Epoch 79/100\n"
     ]
    },
    {
     "name": "stdout",
     "output_type": "stream",
     "text": [
      "70/70 [==============================] - 0s 557us/step - loss: 7.8257\n",
      "Epoch 80/100\n",
      "70/70 [==============================] - 0s 329us/step - loss: 7.8065\n",
      "Epoch 81/100\n",
      "70/70 [==============================] - 0s 243us/step - loss: 7.7480\n",
      "Epoch 82/100\n",
      "70/70 [==============================] - 0s 416us/step - loss: 7.7404\n",
      "Epoch 83/100\n",
      "70/70 [==============================] - 0s 329us/step - loss: 7.7005\n",
      "Epoch 84/100\n",
      "70/70 [==============================] - 0s 629us/step - loss: 7.6752\n",
      "Epoch 85/100\n",
      "70/70 [==============================] - 0s 629us/step - loss: 7.6577\n",
      "Epoch 86/100\n",
      "70/70 [==============================] - 0s 257us/step - loss: 7.6195\n",
      "Epoch 87/100\n",
      "70/70 [==============================] - 0s 429us/step - loss: 7.6587\n",
      "Epoch 88/100\n",
      "70/70 [==============================] - 0s 786us/step - loss: 7.5659\n",
      "Epoch 89/100\n",
      "70/70 [==============================] - 0s 329us/step - loss: 7.5136\n",
      "Epoch 90/100\n",
      "70/70 [==============================] - 0s 271us/step - loss: 7.6498\n",
      "Epoch 91/100\n",
      "70/70 [==============================] - 0s 671us/step - loss: 7.5519\n",
      "Epoch 92/100\n",
      "70/70 [==============================] - 0s 343us/step - loss: 7.4476\n",
      "Epoch 93/100\n",
      "70/70 [==============================] - 0s 386us/step - loss: 7.4920\n",
      "Epoch 94/100\n",
      "70/70 [==============================] - 0s 514us/step - loss: 7.4425\n",
      "Epoch 95/100\n",
      "70/70 [==============================] - 0s 386us/step - loss: 7.3810\n",
      "Epoch 96/100\n",
      "70/70 [==============================] - 0s 300us/step - loss: 7.3934\n",
      "Epoch 97/100\n",
      "70/70 [==============================] - 0s 743us/step - loss: 7.3424\n",
      "Epoch 98/100\n",
      "70/70 [==============================] - 0s 414us/step - loss: 7.3216\n",
      "Epoch 99/100\n",
      "70/70 [==============================] - 0s 315us/step - loss: 7.3081\n",
      "Epoch 100/100\n",
      "70/70 [==============================] - 0s 386us/step - loss: 7.3160\n"
     ]
    },
    {
     "data": {
      "text/plain": [
       "<keras.callbacks.History at 0x21ef928ea88>"
      ]
     },
     "execution_count": 9,
     "metadata": {},
     "output_type": "execute_result"
    }
   ],
   "source": [
    "m.fit(x_train, y_train, epochs=100, batch_size=10)"
   ]
  },
  {
   "cell_type": "code",
   "execution_count": 10,
   "metadata": {
    "scrolled": true
   },
   "outputs": [
    {
     "data": {
      "text/plain": [
       "array([[ 9., 17., 14., 15., 13., 13.,  9., 16., 16., 15., 14., 16., 14.,\n",
       "        18., 12.,  6., 16., 14., 12., 14., 12.,  6., 16.,  9., 12., 11.,\n",
       "        13., 11., 13., 15.]], dtype=float32)"
      ]
     },
     "execution_count": 10,
     "metadata": {},
     "output_type": "execute_result"
    }
   ],
   "source": [
    "m.predict(x_test).round().T"
   ]
  },
  {
   "cell_type": "code",
   "execution_count": 11,
   "metadata": {},
   "outputs": [
    {
     "name": "stderr",
     "output_type": "stream",
     "text": [
      "C:\\Users\\mclou\\Anaconda3\\lib\\site-packages\\ipykernel_launcher.py:1: FutureWarning: Method .as_matrix will be removed in a future version. Use .values instead.\n",
      "  \"\"\"Entry point for launching an IPython kernel.\n"
     ]
    },
    {
     "data": {
      "text/plain": [
       "array([11., 11., 16.,  9., 10., 10., 15., 18., 16., 13., 14., 17., 11.,\n",
       "       17., 14., 12., 12., 12., 15., 14., 11., 12., 11., 12., 15., 17.,\n",
       "       12.,  8., 15., 14.], dtype=float32)"
      ]
     },
     "execution_count": 11,
     "metadata": {},
     "output_type": "execute_result"
    }
   ],
   "source": [
    "y_test.as_matrix().astype(np.float32)"
   ]
  },
  {
   "cell_type": "code",
   "execution_count": 12,
   "metadata": {},
   "outputs": [
    {
     "name": "stdout",
     "output_type": "stream",
     "text": [
      "\r",
      "30/30 [==============================] - 0s 10ms/step\n"
     ]
    },
    {
     "data": {
      "text/plain": [
       "12.003971099853516"
      ]
     },
     "execution_count": 12,
     "metadata": {},
     "output_type": "execute_result"
    }
   ],
   "source": [
    "m.evaluate(x_test, y_test)"
   ]
  },
  {
   "cell_type": "markdown",
   "metadata": {},
   "source": [
    "## Scaling"
   ]
  },
  {
   "cell_type": "code",
   "execution_count": 13,
   "metadata": {},
   "outputs": [],
   "source": [
    "scaler = pre.StandardScaler()\n",
    "scaler.fit(x_train)\n",
    "x_train_scaled = scaler.transform(x_train)"
   ]
  },
  {
   "cell_type": "code",
   "execution_count": 14,
   "metadata": {},
   "outputs": [],
   "source": [
    "m = kr.models.Sequential()\n",
    "\n",
    "m.add(kr.layers.Dense(20, input_dim=4, activation=\"relu\"))\n",
    "m.add(kr.layers.Dense(1, activation=\"linear\"))\n",
    "\n",
    "m.compile(loss=\"mean_squared_error\", optimizer=\"adam\")"
   ]
  },
  {
   "cell_type": "code",
   "execution_count": 15,
   "metadata": {},
   "outputs": [
    {
     "name": "stdout",
     "output_type": "stream",
     "text": [
      "Epoch 1/100\n",
      "70/70 [==============================] - 1s 15ms/step - loss: 40.7511\n",
      "Epoch 2/100\n",
      "70/70 [==============================] - 0s 500us/step - loss: 23.7492\n",
      "Epoch 3/100\n",
      "70/70 [==============================] - 0s 243us/step - loss: 16.7614\n",
      "Epoch 4/100\n",
      "70/70 [==============================] - 0s 286us/step - loss: 15.9313\n",
      "Epoch 5/100\n",
      "70/70 [==============================] - 0s 172us/step - loss: 16.0746\n",
      "Epoch 6/100\n",
      "70/70 [==============================] - 0s 400us/step - loss: 15.6157\n",
      "Epoch 7/100\n",
      "70/70 [==============================] - 0s 272us/step - loss: 14.9831\n",
      "Epoch 8/100\n",
      "70/70 [==============================] - 0s 229us/step - loss: 14.5043\n",
      "Epoch 9/100\n",
      "70/70 [==============================] - 0s 243us/step - loss: 14.2298\n",
      "Epoch 10/100\n",
      "70/70 [==============================] - 0s 415us/step - loss: 13.8845\n",
      "Epoch 11/100\n",
      "70/70 [==============================] - 0s 400us/step - loss: 13.5412\n",
      "Epoch 12/100\n",
      "70/70 [==============================] - 0s 285us/step - loss: 13.1947\n",
      "Epoch 13/100\n",
      "70/70 [==============================] - 0s 400us/step - loss: 12.8451\n",
      "Epoch 14/100\n",
      "70/70 [==============================] - 0s 372us/step - loss: 12.5537\n",
      "Epoch 15/100\n",
      "70/70 [==============================] - 0s 314us/step - loss: 12.2280\n",
      "Epoch 16/100\n",
      "70/70 [==============================] - 0s 371us/step - loss: 11.8975\n",
      "Epoch 17/100\n",
      "70/70 [==============================] - 0s 459us/step - loss: 11.6790\n",
      "Epoch 18/100\n",
      "70/70 [==============================] - 0s 515us/step - loss: 11.4163\n",
      "Epoch 19/100\n",
      "70/70 [==============================] - 0s 557us/step - loss: 11.1162\n",
      "Epoch 20/100\n",
      "70/70 [==============================] - 0s 367us/step - loss: 10.8606\n",
      "Epoch 21/100\n",
      "70/70 [==============================] - 0s 529us/step - loss: 10.7839\n",
      "Epoch 22/100\n",
      "70/70 [==============================] - 0s 543us/step - loss: 10.4204\n",
      "Epoch 23/100\n",
      "70/70 [==============================] - 0s 343us/step - loss: 10.2572\n",
      "Epoch 24/100\n",
      "70/70 [==============================] - 0s 672us/step - loss: 10.0214\n",
      "Epoch 25/100\n",
      "70/70 [==============================] - 0s 414us/step - loss: 9.8172\n",
      "Epoch 26/100\n",
      "70/70 [==============================] - 0s 429us/step - loss: 9.6548\n",
      "Epoch 27/100\n",
      "70/70 [==============================] - 0s 514us/step - loss: 9.4720\n",
      "Epoch 28/100\n",
      "70/70 [==============================] - 0s 443us/step - loss: 9.3718\n",
      "Epoch 29/100\n",
      "70/70 [==============================] - 0s 372us/step - loss: 9.1831\n",
      "Epoch 30/100\n",
      "70/70 [==============================] - 0s 228us/step - loss: 9.0823\n",
      "Epoch 31/100\n",
      "70/70 [==============================] - 0s 243us/step - loss: 8.9204\n",
      "Epoch 32/100\n",
      "70/70 [==============================] - 0s 494us/step - loss: 8.7883\n",
      "Epoch 33/100\n",
      "70/70 [==============================] - 0s 572us/step - loss: 8.7851\n",
      "Epoch 34/100\n",
      "70/70 [==============================] - 0s 529us/step - loss: 8.6041\n",
      "Epoch 35/100\n",
      "70/70 [==============================] - 0s 600us/step - loss: 8.5328\n",
      "Epoch 36/100\n",
      "70/70 [==============================] - 0s 443us/step - loss: 8.4140\n",
      "Epoch 37/100\n",
      "70/70 [==============================] - 0s 614us/step - loss: 8.3060\n",
      "Epoch 38/100\n",
      "70/70 [==============================] - 0s 457us/step - loss: 8.2546\n",
      "Epoch 39/100\n",
      "70/70 [==============================] - 0s 514us/step - loss: 8.1924\n",
      "Epoch 40/100\n",
      "70/70 [==============================] - 0s 414us/step - loss: 8.1452\n",
      "Epoch 41/100\n",
      "70/70 [==============================] - 0s 300us/step - loss: 8.0541\n",
      "Epoch 42/100\n",
      "70/70 [==============================] - 0s 457us/step - loss: 8.0292\n",
      "Epoch 43/100\n",
      "70/70 [==============================] - 0s 451us/step - loss: 7.9793\n",
      "Epoch 44/100\n",
      "70/70 [==============================] - 0s 400us/step - loss: 7.9018\n",
      "Epoch 45/100\n",
      "70/70 [==============================] - 0s 614us/step - loss: 7.8781\n",
      "Epoch 46/100\n",
      "70/70 [==============================] - 0s 343us/step - loss: 7.8219\n",
      "Epoch 47/100\n",
      "70/70 [==============================] - 0s 386us/step - loss: 7.8680\n",
      "Epoch 48/100\n",
      "70/70 [==============================] - 0s 600us/step - loss: 7.7515\n",
      "Epoch 49/100\n",
      "70/70 [==============================] - 0s 643us/step - loss: 7.6739\n",
      "Epoch 50/100\n",
      "70/70 [==============================] - 0s 694us/step - loss: 7.6630\n",
      "Epoch 51/100\n",
      "70/70 [==============================] - 0s 772us/step - loss: 7.6643\n",
      "Epoch 52/100\n",
      "70/70 [==============================] - 0s 765us/step - loss: 7.6205\n",
      "Epoch 53/100\n",
      "70/70 [==============================] - 0s 694us/step - loss: 7.6008\n",
      "Epoch 54/100\n",
      "70/70 [==============================] - 0s 800us/step - loss: 7.5835\n",
      "Epoch 55/100\n",
      "70/70 [==============================] - 0s 843us/step - loss: 7.5256\n",
      "Epoch 56/100\n",
      "70/70 [==============================] - 0s 893us/step - loss: 7.4921\n",
      "Epoch 57/100\n",
      "70/70 [==============================] - 0s 586us/step - loss: 7.4695\n",
      "Epoch 58/100\n",
      "70/70 [==============================] - 0s 557us/step - loss: 7.4565\n",
      "Epoch 59/100\n",
      "70/70 [==============================] - 0s 271us/step - loss: 7.6093\n",
      "Epoch 60/100\n",
      "70/70 [==============================] - 0s 200us/step - loss: 7.4097\n",
      "Epoch 61/100\n",
      "70/70 [==============================] - 0s 143us/step - loss: 7.4753\n",
      "Epoch 62/100\n",
      "70/70 [==============================] - 0s 214us/step - loss: 7.3761\n",
      "Epoch 63/100\n",
      "70/70 [==============================] - 0s 200us/step - loss: 7.4152\n",
      "Epoch 64/100\n",
      "70/70 [==============================] - 0s 157us/step - loss: 7.4034\n",
      "Epoch 65/100\n",
      "70/70 [==============================] - 0s 685us/step - loss: 7.5331\n",
      "Epoch 66/100\n",
      "70/70 [==============================] - 0s 314us/step - loss: 7.4060\n",
      "Epoch 67/100\n",
      "70/70 [==============================] - 0s 185us/step - loss: 7.2614\n",
      "Epoch 68/100\n",
      "70/70 [==============================] - 0s 243us/step - loss: 7.3655\n",
      "Epoch 69/100\n",
      "70/70 [==============================] - 0s 171us/step - loss: 7.5109\n",
      "Epoch 70/100\n",
      "70/70 [==============================] - 0s 300us/step - loss: 7.2903\n",
      "Epoch 71/100\n",
      "70/70 [==============================] - 0s 286us/step - loss: 7.2569\n",
      "Epoch 72/100\n",
      "70/70 [==============================] - 0s 171us/step - loss: 7.2659\n",
      "Epoch 73/100\n",
      "70/70 [==============================] - 0s 186us/step - loss: 7.3053\n",
      "Epoch 74/100\n",
      "70/70 [==============================] - 0s 214us/step - loss: 7.2184\n",
      "Epoch 75/100\n",
      "70/70 [==============================] - 0s 229us/step - loss: 7.2650\n",
      "Epoch 76/100\n",
      "70/70 [==============================] - 0s 114us/step - loss: 7.2063\n",
      "Epoch 77/100\n",
      "70/70 [==============================] - 0s 400us/step - loss: 7.1924\n",
      "Epoch 78/100\n",
      "70/70 [==============================] - 0s 457us/step - loss: 7.1970\n",
      "Epoch 79/100\n",
      "70/70 [==============================] - 0s 286us/step - loss: 7.1973\n",
      "Epoch 80/100\n",
      "70/70 [==============================] - 0s 371us/step - loss: 7.1820\n",
      "Epoch 81/100\n",
      "70/70 [==============================] - 0s 257us/step - loss: 7.1705\n",
      "Epoch 82/100\n",
      "70/70 [==============================] - 0s 229us/step - loss: 7.1864\n",
      "Epoch 83/100\n",
      "70/70 [==============================] - 0s 114us/step - loss: 7.1808\n",
      "Epoch 84/100\n",
      "70/70 [==============================] - 0s 214us/step - loss: 7.1114\n",
      "Epoch 85/100\n",
      "70/70 [==============================] - 0s 114us/step - loss: 7.1328\n",
      "Epoch 86/100\n",
      "70/70 [==============================] - 0s 229us/step - loss: 7.1549\n",
      "Epoch 87/100\n",
      "70/70 [==============================] - 0s 171us/step - loss: 7.2031\n",
      "Epoch 88/100\n",
      "70/70 [==============================] - 0s 129us/step - loss: 7.1231\n",
      "Epoch 89/100\n",
      "70/70 [==============================] - 0s 214us/step - loss: 7.1291\n",
      "Epoch 90/100\n",
      "70/70 [==============================] - 0s 114us/step - loss: 7.0572\n",
      "Epoch 91/100\n",
      "70/70 [==============================] - 0s 114us/step - loss: 7.1076\n",
      "Epoch 92/100\n",
      "70/70 [==============================] - 0s 214us/step - loss: 7.2221\n",
      "Epoch 93/100\n",
      "70/70 [==============================] - 0s 114us/step - loss: 7.0099\n",
      "Epoch 94/100\n",
      "70/70 [==============================] - 0s 172us/step - loss: 7.0079\n",
      "Epoch 95/100\n",
      "70/70 [==============================] - 0s 157us/step - loss: 7.0560\n",
      "Epoch 96/100\n",
      "70/70 [==============================] - 0s 157us/step - loss: 7.0000\n",
      "Epoch 97/100\n",
      "70/70 [==============================] - 0s 243us/step - loss: 7.0762\n",
      "Epoch 98/100\n",
      "70/70 [==============================] - 0s 129us/step - loss: 6.9707\n",
      "Epoch 99/100\n"
     ]
    },
    {
     "name": "stdout",
     "output_type": "stream",
     "text": [
      "70/70 [==============================] - 0s 186us/step - loss: 6.9660\n",
      "Epoch 100/100\n",
      "70/70 [==============================] - 0s 129us/step - loss: 6.9669\n"
     ]
    },
    {
     "data": {
      "text/plain": [
       "<keras.callbacks.History at 0x21efa51b308>"
      ]
     },
     "execution_count": 15,
     "metadata": {},
     "output_type": "execute_result"
    }
   ],
   "source": [
    "m.fit(x_train, y_train, epochs=100, batch_size=10)"
   ]
  },
  {
   "cell_type": "code",
   "execution_count": 16,
   "metadata": {},
   "outputs": [
    {
     "data": {
      "text/plain": [
       "array([[ 9., 17., 15., 15., 13., 13.,  9., 16., 16., 16., 14., 17., 14.,\n",
       "        19., 13.,  6., 16., 14., 13., 14., 12.,  5., 16.,  9., 12., 11.,\n",
       "        14., 11., 14., 15.]], dtype=float32)"
      ]
     },
     "execution_count": 16,
     "metadata": {},
     "output_type": "execute_result"
    }
   ],
   "source": [
    "m.predict(x_test).round().T"
   ]
  },
  {
   "cell_type": "code",
   "execution_count": 17,
   "metadata": {},
   "outputs": [
    {
     "name": "stderr",
     "output_type": "stream",
     "text": [
      "C:\\Users\\mclou\\Anaconda3\\lib\\site-packages\\ipykernel_launcher.py:1: FutureWarning: Method .as_matrix will be removed in a future version. Use .values instead.\n",
      "  \"\"\"Entry point for launching an IPython kernel.\n"
     ]
    },
    {
     "data": {
      "text/plain": [
       "array([11., 11., 16.,  9., 10., 10., 15., 18., 16., 13., 14., 17., 11.,\n",
       "       17., 14., 12., 12., 12., 15., 14., 11., 12., 11., 12., 15., 17.,\n",
       "       12.,  8., 15., 14.], dtype=float32)"
      ]
     },
     "execution_count": 17,
     "metadata": {},
     "output_type": "execute_result"
    }
   ],
   "source": [
    "y_test.as_matrix().astype(np.float32)"
   ]
  },
  {
   "cell_type": "code",
   "execution_count": 18,
   "metadata": {},
   "outputs": [
    {
     "name": "stdout",
     "output_type": "stream",
     "text": [
      "\r",
      "30/30 [==============================] - 0s 5ms/step\n"
     ]
    },
    {
     "data": {
      "text/plain": [
       "11.587384223937988"
      ]
     },
     "execution_count": 18,
     "metadata": {},
     "output_type": "execute_result"
    }
   ],
   "source": [
    "m.evaluate(x_test, y_test)"
   ]
  },
  {
   "cell_type": "markdown",
   "metadata": {},
   "source": [
    "## Whitening"
   ]
  },
  {
   "cell_type": "code",
   "execution_count": 19,
   "metadata": {},
   "outputs": [
    {
     "data": {
      "text/html": [
       "<div>\n",
       "<style scoped>\n",
       "    .dataframe tbody tr th:only-of-type {\n",
       "        vertical-align: middle;\n",
       "    }\n",
       "\n",
       "    .dataframe tbody tr th {\n",
       "        vertical-align: top;\n",
       "    }\n",
       "\n",
       "    .dataframe thead th {\n",
       "        text-align: right;\n",
       "    }\n",
       "</style>\n",
       "<table border=\"1\" class=\"dataframe\">\n",
       "  <thead>\n",
       "    <tr style=\"text-align: right;\">\n",
       "      <th></th>\n",
       "      <th>pureenc</th>\n",
       "      <th>age</th>\n",
       "      <th>weight</th>\n",
       "      <th>height</th>\n",
       "    </tr>\n",
       "  </thead>\n",
       "  <tbody>\n",
       "    <tr>\n",
       "      <th>0</th>\n",
       "      <td>0.736344</td>\n",
       "      <td>-0.947150</td>\n",
       "      <td>-0.650070</td>\n",
       "      <td>-0.890905</td>\n",
       "    </tr>\n",
       "    <tr>\n",
       "      <th>1</th>\n",
       "      <td>0.503805</td>\n",
       "      <td>0.907259</td>\n",
       "      <td>1.235562</td>\n",
       "      <td>1.011582</td>\n",
       "    </tr>\n",
       "    <tr>\n",
       "      <th>2</th>\n",
       "      <td>0.974486</td>\n",
       "      <td>-0.962635</td>\n",
       "      <td>-0.142712</td>\n",
       "      <td>1.105679</td>\n",
       "    </tr>\n",
       "    <tr>\n",
       "      <th>3</th>\n",
       "      <td>0.669764</td>\n",
       "      <td>0.811331</td>\n",
       "      <td>1.719606</td>\n",
       "      <td>-1.006800</td>\n",
       "    </tr>\n",
       "    <tr>\n",
       "      <th>4</th>\n",
       "      <td>0.072978</td>\n",
       "      <td>1.519562</td>\n",
       "      <td>-0.616789</td>\n",
       "      <td>-1.024494</td>\n",
       "    </tr>\n",
       "    <tr>\n",
       "      <th>...</th>\n",
       "      <td>...</td>\n",
       "      <td>...</td>\n",
       "      <td>...</td>\n",
       "      <td>...</td>\n",
       "    </tr>\n",
       "    <tr>\n",
       "      <th>65</th>\n",
       "      <td>-0.935858</td>\n",
       "      <td>-1.577010</td>\n",
       "      <td>-0.961254</td>\n",
       "      <td>-0.685203</td>\n",
       "    </tr>\n",
       "    <tr>\n",
       "      <th>66</th>\n",
       "      <td>-2.332158</td>\n",
       "      <td>-0.032905</td>\n",
       "      <td>-0.728702</td>\n",
       "      <td>-0.674602</td>\n",
       "    </tr>\n",
       "    <tr>\n",
       "      <th>67</th>\n",
       "      <td>-0.532962</td>\n",
       "      <td>-0.339450</td>\n",
       "      <td>0.838967</td>\n",
       "      <td>1.205777</td>\n",
       "    </tr>\n",
       "    <tr>\n",
       "      <th>68</th>\n",
       "      <td>-0.637194</td>\n",
       "      <td>1.386388</td>\n",
       "      <td>-0.227541</td>\n",
       "      <td>-0.943898</td>\n",
       "    </tr>\n",
       "    <tr>\n",
       "      <th>69</th>\n",
       "      <td>1.454682</td>\n",
       "      <td>-0.213017</td>\n",
       "      <td>0.081934</td>\n",
       "      <td>1.002329</td>\n",
       "    </tr>\n",
       "  </tbody>\n",
       "</table>\n",
       "<p>70 rows × 4 columns</p>\n",
       "</div>"
      ],
      "text/plain": [
       "     pureenc       age    weight    height\n",
       "0   0.736344 -0.947150 -0.650070 -0.890905\n",
       "1   0.503805  0.907259  1.235562  1.011582\n",
       "2   0.974486 -0.962635 -0.142712  1.105679\n",
       "3   0.669764  0.811331  1.719606 -1.006800\n",
       "4   0.072978  1.519562 -0.616789 -1.024494\n",
       "..       ...       ...       ...       ...\n",
       "65 -0.935858 -1.577010 -0.961254 -0.685203\n",
       "66 -2.332158 -0.032905 -0.728702 -0.674602\n",
       "67 -0.532962 -0.339450  0.838967  1.205777\n",
       "68 -0.637194  1.386388 -0.227541 -0.943898\n",
       "69  1.454682 -0.213017  0.081934  1.002329\n",
       "\n",
       "[70 rows x 4 columns]"
      ]
     },
     "execution_count": 19,
     "metadata": {},
     "output_type": "execute_result"
    }
   ],
   "source": [
    "pca = dec.PCA(n_components=4, whiten=True)\n",
    "pca.fit(x_train)\n",
    "x_train_white = pd.DataFrame(pca.transform(x_train), columns=x.columns)\n",
    "x_train_white"
   ]
  },
  {
   "cell_type": "code",
   "execution_count": 20,
   "metadata": {},
   "outputs": [],
   "source": [
    "m = kr.models.Sequential()\n",
    "\n",
    "m.add(kr.layers.Dense(100, input_dim=4, activation=\"tanh\"))\n",
    "m.add(kr.layers.Dense(1, activation=\"linear\"))\n",
    "\n",
    "m.compile(loss=\"mean_squared_error\", optimizer=\"adam\")"
   ]
  },
  {
   "cell_type": "code",
   "execution_count": 21,
   "metadata": {},
   "outputs": [
    {
     "name": "stdout",
     "output_type": "stream",
     "text": [
      "Epoch 1/100\n",
      "70/70 [==============================] - 1s 17ms/step - loss: 158.6180\n",
      "Epoch 2/100\n",
      "70/70 [==============================] - 0s 428us/step - loss: 134.5251\n",
      "Epoch 3/100\n",
      "70/70 [==============================] - 0s 457us/step - loss: 111.7644\n",
      "Epoch 4/100\n",
      "70/70 [==============================] - 0s 415us/step - loss: 90.5519\n",
      "Epoch 5/100\n",
      "70/70 [==============================] - 0s 271us/step - loss: 71.9324\n",
      "Epoch 6/100\n",
      "70/70 [==============================] - 0s 286us/step - loss: 56.6963\n",
      "Epoch 7/100\n",
      "70/70 [==============================] - 0s 243us/step - loss: 44.0425\n",
      "Epoch 8/100\n",
      "70/70 [==============================] - 0s 422us/step - loss: 34.4441\n",
      "Epoch 9/100\n",
      "70/70 [==============================] - 0s 279us/step - loss: 27.1206\n",
      "Epoch 10/100\n",
      "70/70 [==============================] - 0s 271us/step - loss: 21.2781\n",
      "Epoch 11/100\n",
      "70/70 [==============================] - 0s 243us/step - loss: 16.4516\n",
      "Epoch 12/100\n",
      "70/70 [==============================] - 0s 228us/step - loss: 12.8540\n",
      "Epoch 13/100\n",
      "70/70 [==============================] - 0s 408us/step - loss: 10.5121\n",
      "Epoch 14/100\n",
      "70/70 [==============================] - 0s 271us/step - loss: 8.9433\n",
      "Epoch 15/100\n",
      "70/70 [==============================] - 0s 358us/step - loss: 8.1221\n",
      "Epoch 16/100\n",
      "70/70 [==============================] - 0s 285us/step - loss: 7.5888\n",
      "Epoch 17/100\n",
      "70/70 [==============================] - 0s 322us/step - loss: 7.1611\n",
      "Epoch 18/100\n",
      "70/70 [==============================] - 0s 271us/step - loss: 6.8435\n",
      "Epoch 19/100\n",
      "70/70 [==============================] - 0s 114us/step - loss: 6.4816\n",
      "Epoch 20/100\n",
      "70/70 [==============================] - 0s 157us/step - loss: 6.2920\n",
      "Epoch 21/100\n",
      "70/70 [==============================] - 0s 129us/step - loss: 6.1308\n",
      "Epoch 22/100\n",
      "70/70 [==============================] - 0s 129us/step - loss: 5.9747\n",
      "Epoch 23/100\n",
      "70/70 [==============================] - 0s 243us/step - loss: 5.8099\n",
      "Epoch 24/100\n",
      "70/70 [==============================] - 0s 129us/step - loss: 5.6845\n",
      "Epoch 25/100\n",
      "70/70 [==============================] - 0s 157us/step - loss: 5.5867\n",
      "Epoch 26/100\n",
      "70/70 [==============================] - 0s 143us/step - loss: 5.4749\n",
      "Epoch 27/100\n",
      "70/70 [==============================] - 0s 129us/step - loss: 5.3680\n",
      "Epoch 28/100\n",
      "70/70 [==============================] - 0s 114us/step - loss: 5.2677\n",
      "Epoch 29/100\n",
      "70/70 [==============================] - 0s 86us/step - loss: 5.1826\n",
      "Epoch 30/100\n",
      "70/70 [==============================] - 0s 128us/step - loss: 5.0697\n",
      "Epoch 31/100\n",
      "70/70 [==============================] - 0s 143us/step - loss: 4.9635\n",
      "Epoch 32/100\n",
      "70/70 [==============================] - 0s 129us/step - loss: 4.8581\n",
      "Epoch 33/100\n",
      "70/70 [==============================] - 0s 86us/step - loss: 4.7279\n",
      "Epoch 34/100\n",
      "70/70 [==============================] - 0s 171us/step - loss: 4.6324\n",
      "Epoch 35/100\n",
      "70/70 [==============================] - 0s 129us/step - loss: 4.4978\n",
      "Epoch 36/100\n",
      "70/70 [==============================] - 0s 114us/step - loss: 4.3905\n",
      "Epoch 37/100\n",
      "70/70 [==============================] - 0s 143us/step - loss: 4.2752\n",
      "Epoch 38/100\n",
      "70/70 [==============================] - 0s 86us/step - loss: 4.1497\n",
      "Epoch 39/100\n",
      "70/70 [==============================] - 0s 129us/step - loss: 4.0077\n",
      "Epoch 40/100\n",
      "70/70 [==============================] - 0s 129us/step - loss: 3.8861\n",
      "Epoch 41/100\n",
      "70/70 [==============================] - 0s 157us/step - loss: 3.7584\n",
      "Epoch 42/100\n",
      "70/70 [==============================] - 0s 143us/step - loss: 3.6428\n",
      "Epoch 43/100\n",
      "70/70 [==============================] - 0s 114us/step - loss: 3.5566\n",
      "Epoch 44/100\n",
      "70/70 [==============================] - 0s 186us/step - loss: 3.4503\n",
      "Epoch 45/100\n",
      "70/70 [==============================] - 0s 114us/step - loss: 3.3262\n",
      "Epoch 46/100\n",
      "70/70 [==============================] - 0s 229us/step - loss: 3.2249\n",
      "Epoch 47/100\n",
      "70/70 [==============================] - 0s 229us/step - loss: 3.1288\n",
      "Epoch 48/100\n",
      "70/70 [==============================] - 0s 186us/step - loss: 3.0552\n",
      "Epoch 49/100\n",
      "70/70 [==============================] - 0s 129us/step - loss: 2.9759\n",
      "Epoch 50/100\n",
      "70/70 [==============================] - 0s 100us/step - loss: 2.8993\n",
      "Epoch 51/100\n",
      "70/70 [==============================] - 0s 214us/step - loss: 2.8421\n",
      "Epoch 52/100\n",
      "70/70 [==============================] - 0s 157us/step - loss: 2.7827\n",
      "Epoch 53/100\n",
      "70/70 [==============================] - 0s 129us/step - loss: 2.7410\n",
      "Epoch 54/100\n",
      "70/70 [==============================] - 0s 143us/step - loss: 2.6704\n",
      "Epoch 55/100\n",
      "70/70 [==============================] - 0s 143us/step - loss: 2.6252\n",
      "Epoch 56/100\n",
      "70/70 [==============================] - 0s 129us/step - loss: 2.5803\n",
      "Epoch 57/100\n",
      "70/70 [==============================] - 0s 229us/step - loss: 2.5301\n",
      "Epoch 58/100\n",
      "70/70 [==============================] - 0s 100us/step - loss: 2.4905\n",
      "Epoch 59/100\n",
      "70/70 [==============================] - 0s 143us/step - loss: 2.4517\n",
      "Epoch 60/100\n",
      "70/70 [==============================] - 0s 129us/step - loss: 2.3969\n",
      "Epoch 61/100\n",
      "70/70 [==============================] - 0s 114us/step - loss: 2.3454\n",
      "Epoch 62/100\n",
      "70/70 [==============================] - 0s 100us/step - loss: 2.3110\n",
      "Epoch 63/100\n",
      "70/70 [==============================] - 0s 143us/step - loss: 2.2778\n",
      "Epoch 64/100\n",
      "70/70 [==============================] - 0s 157us/step - loss: 2.2333\n",
      "Epoch 65/100\n",
      "70/70 [==============================] - 0s 343us/step - loss: 2.2092\n",
      "Epoch 66/100\n",
      "70/70 [==============================] - 0s 243us/step - loss: 2.1727\n",
      "Epoch 67/100\n",
      "70/70 [==============================] - 0s 143us/step - loss: 2.1284\n",
      "Epoch 68/100\n",
      "70/70 [==============================] - 0s 257us/step - loss: 2.0967\n",
      "Epoch 69/100\n",
      "70/70 [==============================] - 0s 300us/step - loss: 2.0498\n",
      "Epoch 70/100\n",
      "70/70 [==============================] - 0s 157us/step - loss: 2.0201\n",
      "Epoch 71/100\n",
      "70/70 [==============================] - 0s 100us/step - loss: 1.9780\n",
      "Epoch 72/100\n",
      "70/70 [==============================] - 0s 214us/step - loss: 1.9722\n",
      "Epoch 73/100\n",
      "70/70 [==============================] - 0s 171us/step - loss: 1.9362\n",
      "Epoch 74/100\n",
      "70/70 [==============================] - 0s 200us/step - loss: 1.9167\n",
      "Epoch 75/100\n",
      "70/70 [==============================] - 0s 229us/step - loss: 1.8913\n",
      "Epoch 76/100\n",
      "70/70 [==============================] - 0s 129us/step - loss: 1.8619\n",
      "Epoch 77/100\n",
      "70/70 [==============================] - 0s 386us/step - loss: 1.8615\n",
      "Epoch 78/100\n",
      "70/70 [==============================] - 0s 243us/step - loss: 1.8249\n",
      "Epoch 79/100\n",
      "70/70 [==============================] - 0s 343us/step - loss: 1.8039\n",
      "Epoch 80/100\n",
      "70/70 [==============================] - 0s 257us/step - loss: 1.7825\n",
      "Epoch 81/100\n",
      "70/70 [==============================] - 0s 257us/step - loss: 1.7650\n",
      "Epoch 82/100\n",
      "70/70 [==============================] - 0s 1ms/step - loss: 1.7398\n",
      "Epoch 83/100\n",
      "70/70 [==============================] - 0s 257us/step - loss: 1.7427\n",
      "Epoch 84/100\n",
      "70/70 [==============================] - 0s 486us/step - loss: 1.7253\n",
      "Epoch 85/100\n",
      "70/70 [==============================] - 0s 186us/step - loss: 1.6929\n",
      "Epoch 86/100\n",
      "70/70 [==============================] - 0s 214us/step - loss: 1.6610\n",
      "Epoch 87/100\n",
      "70/70 [==============================] - 0s 186us/step - loss: 1.6350\n",
      "Epoch 88/100\n",
      "70/70 [==============================] - 0s 200us/step - loss: 1.6064\n",
      "Epoch 89/100\n",
      "70/70 [==============================] - 0s 128us/step - loss: 1.5692\n",
      "Epoch 90/100\n",
      "70/70 [==============================] - 0s 114us/step - loss: 1.5434\n",
      "Epoch 91/100\n",
      "70/70 [==============================] - 0s 129us/step - loss: 1.5408\n",
      "Epoch 92/100\n",
      "70/70 [==============================] - 0s 300us/step - loss: 1.5116\n",
      "Epoch 93/100\n",
      "70/70 [==============================] - 0s 457us/step - loss: 1.4945\n",
      "Epoch 94/100\n",
      "70/70 [==============================] - 0s 671us/step - loss: 1.4816\n",
      "Epoch 95/100\n",
      "70/70 [==============================] - 0s 543us/step - loss: 1.4692\n",
      "Epoch 96/100\n",
      "70/70 [==============================] - 0s 285us/step - loss: 1.4554\n",
      "Epoch 97/100\n",
      "70/70 [==============================] - 0s 514us/step - loss: 1.4512\n",
      "Epoch 98/100\n",
      "70/70 [==============================] - 0s 708us/step - loss: 1.4365\n",
      "Epoch 99/100\n"
     ]
    },
    {
     "name": "stdout",
     "output_type": "stream",
     "text": [
      "70/70 [==============================] - 0s 300us/step - loss: 1.4436\n",
      "Epoch 100/100\n",
      "70/70 [==============================] - 0s 1ms/step - loss: 1.4074\n"
     ]
    },
    {
     "data": {
      "text/plain": [
       "<keras.callbacks.History at 0x21efb5d6c48>"
      ]
     },
     "execution_count": 21,
     "metadata": {},
     "output_type": "execute_result"
    }
   ],
   "source": [
    "m.fit(x_train, y_train, epochs=100, batch_size=10)"
   ]
  },
  {
   "cell_type": "code",
   "execution_count": 22,
   "metadata": {},
   "outputs": [
    {
     "data": {
      "text/plain": [
       "array([[10., 13., 15., 11., 11., 11., 13., 16., 15., 13., 14., 16., 12.,\n",
       "        16., 14., 10., 14., 12., 14., 14., 11., 10., 13., 11., 14., 15.,\n",
       "        12., 10., 14., 15.]], dtype=float32)"
      ]
     },
     "execution_count": 22,
     "metadata": {},
     "output_type": "execute_result"
    }
   ],
   "source": [
    "m.predict(x_test).round().T"
   ]
  },
  {
   "cell_type": "code",
   "execution_count": 23,
   "metadata": {},
   "outputs": [
    {
     "name": "stderr",
     "output_type": "stream",
     "text": [
      "C:\\Users\\mclou\\Anaconda3\\lib\\site-packages\\ipykernel_launcher.py:1: FutureWarning: Method .as_matrix will be removed in a future version. Use .values instead.\n",
      "  \"\"\"Entry point for launching an IPython kernel.\n"
     ]
    },
    {
     "data": {
      "text/plain": [
       "array([11., 11., 16.,  9., 10., 10., 15., 18., 16., 13., 14., 17., 11.,\n",
       "       17., 14., 12., 12., 12., 15., 14., 11., 12., 11., 12., 15., 17.,\n",
       "       12.,  8., 15., 14.], dtype=float32)"
      ]
     },
     "execution_count": 23,
     "metadata": {},
     "output_type": "execute_result"
    }
   ],
   "source": [
    "y_test.as_matrix().astype(np.float32)"
   ]
  },
  {
   "cell_type": "code",
   "execution_count": 24,
   "metadata": {},
   "outputs": [
    {
     "name": "stdout",
     "output_type": "stream",
     "text": [
      "\r",
      "30/30 [==============================] - 0s 10ms/step\n"
     ]
    },
    {
     "data": {
      "text/plain": [
       "1.8622918128967285"
      ]
     },
     "execution_count": 24,
     "metadata": {},
     "output_type": "execute_result"
    }
   ],
   "source": [
    "m.evaluate(x_test, y_test)"
   ]
  },
  {
   "cell_type": "markdown",
   "metadata": {},
   "source": [
    "## End"
   ]
  }
 ],
 "metadata": {
  "kernelspec": {
   "display_name": "Python 3",
   "language": "python",
   "name": "python3"
  },
  "language_info": {
   "codemirror_mode": {
    "name": "ipython",
    "version": 3
   },
   "file_extension": ".py",
   "mimetype": "text/x-python",
   "name": "python",
   "nbconvert_exporter": "python",
   "pygments_lexer": "ipython3",
   "version": "3.7.5"
  }
 },
 "nbformat": 4,
 "nbformat_minor": 2
}