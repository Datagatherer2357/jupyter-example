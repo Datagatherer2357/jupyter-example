{
 "cells": [
  {
   "cell_type": "markdown",
   "metadata": {},
   "source": [
    "### Gareth Duffy g00364693\n",
    "\n",
    "#### Multi-Paradigm Programming Assignment 2\n",
    "\n",
    "**Tasks:**\n",
    "\n",
    "For each of the following write a functional, recursive, function in Python to accomplish the task. Marks will be award for correct solutions and for comments explaining how the function works.\n",
    "\n",
    "***\n",
    "\n",
    "The following properties describe the prerequisites that should exist in a recursive function. Best efforts were made to ensure each solution is both functional and recursive and that each one carries no unwanted side effects. The output of each solution rely solely on their input arguments, their state never changes and nothing \"persists\" after the function is returned.\n",
    "\n",
    "**Recursion properties**\n",
    "\n",
    "- There should always be two parts to a recursive function: the recursive case and the base case.\n",
    "- The recursive case is when the function calls itself.\n",
    "- The base case is a condition that stops the function stops calling itself.\n",
    "- The solution to the base case is provided and the solution of the bigger problem is expressed in terms of smaller problems.\n",
    "- The base case is worked towards by invoking itself on each element of a given array or input\n",
    "- The solution to a problem depends on solutions to smaller instances of the same problem.\n",
    "- The recursive function \"calls itself\" until the base case returns \"True\".\n",
    "- Once the base case returns True the execution of that function terminates.\n",
    "- While false, we will keep placing execution contexts on top of the *stack*.\n",
    "- When a program calls a function, that function goes on top of the call stack. This similar to a stack of books. You add things one at a time. Then, when you are ready to take something off, you always take off the top item. the stack is a data structure that operates on a “Last In, First Out” basis. An item is “pushed” onto a stack to add to it, and an item is “popped” off the stack to remove it. To begin with, the stacks of all functions are empty.\n",
    "***\n",
    "\n",
    "**Task solutions:**"
   ]
  },
  {
   "cell_type": "markdown",
   "metadata": {},
   "source": [
    "1. Sum of an array: Given an array of numbers return it's sum (all the numbers added together)."
   ]
  },
  {
   "cell_type": "code",
   "execution_count": 10,
   "metadata": {},
   "outputs": [
    {
     "name": "stdout",
     "output_type": "stream",
     "text": [
      "\n",
      "\n",
      "Problem No.1: Sum of an array\n",
      "Please enter 5 numbers to create an array: 12\n",
      "Please enter 5 numbers to create an array: 34\n",
      "Please enter 5 numbers to create an array: 56\n",
      "Please enter 5 numbers to create an array: 78\n",
      "Please enter 5 numbers to create an array: 90\n",
      "The sum of your array [12, 34, 56, 78, 90] is: 270\n"
     ]
    }
   ],
   "source": [
    "# 1:\n",
    "\n",
    "print(\"\\n\")\n",
    "print(\"Problem No.1: Sum of an array\")\n",
    "\n",
    "array = [] # Empty array to be filled by user \n",
    " \n",
    "for i in range(0, 5): # Set up loop to run 5 times, i.e. to ask for 5 array elements\n",
    "    number = int(input('Please enter 5 numbers to create an array: ')) # Provide array prompt for users choice\n",
    "    array.append(number) # Append to array\n",
    "\n",
    "def getSum(array):\n",
    "    # Termination condition/base case \n",
    "    if len(array)==0: # If array has no elements\n",
    "        return 0 #  Value 0 will be returned and function will end when the return keyword and value is reached.\n",
    "    else:   # Begin at first element, make recursive call on the adjacent element slice, add the two, \n",
    "            # reduce the array length, return to the start of the function to repeat same processs until length of array = 0\n",
    "        return array[0] + getSum(array[1:]) # Recursive call to each element in the array (after but not\n",
    "                                            # including the first element), i.e. recursively traversing the array\n",
    "                                            # (Array slicing which creates a new array).\n",
    "print(\"The sum of your array\", array, \"is:\", getSum(array))"
   ]
  },
  {
   "cell_type": "markdown",
   "metadata": {},
   "source": [
    "2. Product of an array: Given an array of numbers return it's product (all the numbers multiplied together)."
   ]
  },
  {
   "cell_type": "code",
   "execution_count": 11,
   "metadata": {},
   "outputs": [
    {
     "name": "stdout",
     "output_type": "stream",
     "text": [
      "--------------------------------------------\n",
      "\n",
      "\n",
      "Problem No.2: Product of an array\n",
      "Please enter 5 numbers to create an array: 2\n",
      "Please enter 5 numbers to create an array: 3\n",
      "Please enter 5 numbers to create an array: 5\n",
      "Please enter 5 numbers to create an array: 7\n",
      "Please enter 5 numbers to create an array: 11\n",
      "The product of your array [2, 3, 5, 7, 11] is: 2310\n"
     ]
    }
   ],
   "source": [
    "# 2.\n",
    "\n",
    "print(\"--------------------------------------------\")\n",
    "print(\"\\n\")\n",
    "print(\"Problem No.2: Product of an array\")\n",
    "\n",
    "array2 = [] # Empty array to be filled by user\n",
    " \n",
    "for i in range(0, 5): # Set up loop to run 5 times, i.e. to ask for 5 array elements\n",
    "    number = int(input('Please enter 5 numbers to create an array: ')) # Provide array prompt for users choice\n",
    "    array2.append(number) # Append to array2\n",
    "\n",
    "# Function to calculate the product of array using recursion \n",
    "\n",
    "def multiply(a, n): \n",
    "    # Termination condition/base case \n",
    "    if n == 0: # If n is 0, i.e. no more elements to recurse, then... \n",
    "        return(a[n]) # return that element\n",
    "    else: # n decreases from 5 to zero as recursion works toward the base case\n",
    "        return (a[n] * multiply(a, n - 1))  # Recursive call: multiply n by the adjacent element\n",
    "                                            # Recursion then goes back up the stack and multiplies each element in turn\n",
    "  \n",
    "n = len(array2) # Calculates how many elements are in the array\n",
    "  \n",
    "# Function call to calculate the array product \n",
    "print(\"The product of your array\", array2, \"is:\",multiply(array2, n - 1))"
   ]
  },
  {
   "cell_type": "markdown",
   "metadata": {},
   "source": [
    "3. Remove all odd numbers: Given an array of numbers return an array with all the odd numbers removed."
   ]
  },
  {
   "cell_type": "code",
   "execution_count": 14,
   "metadata": {},
   "outputs": [
    {
     "name": "stdout",
     "output_type": "stream",
     "text": [
      "--------------------------------------------\n",
      "\n",
      "\n",
      "Problem No.3: Remove all odd numbers\n",
      "Please enter 5 numbers to create an array: 3\n",
      "Please enter 5 numbers to create an array: 5\n",
      "Please enter 5 numbers to create an array: 7\n",
      "Please enter 5 numbers to create an array: 8\n",
      "Please enter 5 numbers to create an array: 10\n",
      "After removing the odd numbers in your array [3, 5, 7, 8, 10] the evens are: [8, 10]\n"
     ]
    }
   ],
   "source": [
    "# 3.\n",
    "\n",
    "print(\"--------------------------------------------\")\n",
    "print(\"\\n\")\n",
    "print(\"Problem No.3: Remove all odd numbers\")\n",
    "\n",
    "array3 = [] # Empty array to be filled by user\n",
    " \n",
    "for i in range(0, 5): # Set up loop to run 5 times, i.e. to ask for 5 array elements\n",
    "    number = int(input('Please enter 5 numbers to create an array: ')) # Provide array prompt for users choice\n",
    "    array3.append(number) # Append to array3\n",
    "\n",
    "def remove_odd(numbers):\n",
    "    # Termination condition/base case \n",
    "    if not numbers: # If no numbers exist then...\n",
    "        return [] # Return the empty array\n",
    "    if numbers[0] % 2 == 0: # Modulo to determine if element is even, i.e. if there is no remainder left after division on element[0]\n",
    "        return [numbers[0]] + remove_odd(numbers[1:]) # Return that even number, add to the recursive call made to sliced array from element 1 onward\n",
    "    return remove_odd(numbers[1:]) # Else return the sliced recursed array (Array slicing which creates a new array).\n",
    "\n",
    "print(\"After removing the odd numbers in your array\", array3, \"the evens are:\", remove_odd(array3))"
   ]
  },
  {
   "cell_type": "markdown",
   "metadata": {},
   "source": [
    "4. Remove all even numbers: Given an array of numbers return an array with all the even numbers removed."
   ]
  },
  {
   "cell_type": "code",
   "execution_count": 25,
   "metadata": {},
   "outputs": [
    {
     "name": "stdout",
     "output_type": "stream",
     "text": [
      "--------------------------------------------\n",
      "\n",
      "\n",
      "Problem No.4: Remove all even numbers\n",
      "Please enter 5 numbers to create an array: 1\n",
      "Please enter 5 numbers to create an array: 2\n",
      "Please enter 5 numbers to create an array: 4\n",
      "Please enter 5 numbers to create an array: 4\n",
      "Please enter 5 numbers to create an array: 5\n",
      "After removing the even numbers in your array [1, 2, 4, 4, 5] the odds are: [1, 5]\n"
     ]
    }
   ],
   "source": [
    "# 4.\n",
    "\n",
    "print(\"--------------------------------------------\")\n",
    "print(\"\\n\")\n",
    "print(\"Problem No.4: Remove all even numbers\")\n",
    "\n",
    "array4 = [] # Empty array to be filled by user\n",
    " \n",
    "for i in range(0, 5): # Set up loop to run 5 times, i.e. to ask for 5 array elements\n",
    "    number = int(input('Please enter 5 numbers to create an array: ')) # Provide array prompt for users choice\n",
    "    array4.append(number) # Append to array4\n",
    "\n",
    "def remove_even(numbers):\n",
    "    # Termination condition/base case \n",
    "    if not numbers: # If no numbers exist then...\n",
    "        return [] # Return the empty array\n",
    "    if numbers[0] % 2 == 1: # Modulo to determine if element is odd, i.e. if there is a remainder of one left after division on element[0]\n",
    "        return [numbers[0]] + remove_even(numbers[1:]) # Return that odd number, add to the recursive call made to sliced array from element 1 onward\n",
    "    return remove_even(numbers[1:]) # Else return the sliced recursed array (Array slicing which creates a new array).\n",
    "\n",
    "print(\"After removing the even numbers in your array\", array4, \"the odds are:\", remove_even(array4))"
   ]
  },
  {
   "cell_type": "markdown",
   "metadata": {},
   "source": [
    "5. Replace a given character with ' * ': Given a string, and a character to replace, return a string where each occurance of the character is replaced with ' * '."
   ]
  },
  {
   "cell_type": "code",
   "execution_count": 31,
   "metadata": {},
   "outputs": [
    {
     "name": "stdout",
     "output_type": "stream",
     "text": [
      "--------------------------------------------\n",
      "\n",
      "\n",
      "Problem No.5: Replace a given character with '*'\n",
      "Displaying converted output for the words 'Multi Paradigm Programming':\n",
      "\n",
      "Multi P*r*digm Progr*mming\n"
     ]
    }
   ],
   "source": [
    "# 5.\n",
    "\n",
    "print(\"--------------------------------------------\")\n",
    "print(\"\\n\")\n",
    "print(\"Problem No.5: Replace a given character with '*'\")\n",
    "\n",
    "def replace_char(string, old_char, new_char):\n",
    "    # Termination condition/base case \n",
    "    if string == '': # If string is empty...\n",
    "        return '' # return empty string\n",
    "    if string[0] == old_char: # If index [0] character in string matches inputted character \n",
    "        return new_char + replace_char(string[1:], old_char, new_char) # Replace that character with the new character and  \n",
    "                                                                       # recurse again by traversing the array\n",
    "                                                                       # Recursively go through string as if it were an array \n",
    "    return string[0] + replace_char(string[1:], old_char, new_char) # Else return element [0], recurse on next element \n",
    "                                                                    # (Array slicing which creates a new array).\n",
    "\n",
    "print(\"Displaying converted output for the words 'Multi Paradigm Programming':\\n\")\n",
    "print(replace_char('Multi Paradigm Programming', 'a','*'))"
   ]
  },
  {
   "cell_type": "markdown",
   "metadata": {},
   "source": [
    "6. Find index in array for item: Given an array, and an element to search for return the index of the element in the array or -1 if the element is not present in the array."
   ]
  },
  {
   "cell_type": "code",
   "execution_count": 30,
   "metadata": {},
   "outputs": [
    {
     "name": "stdout",
     "output_type": "stream",
     "text": [
      "--------------------------------------------\n",
      "\n",
      "\n",
      "Problem No.6: Find index in array for item\n",
      "The element you looking for is at index 5 in the array\n",
      "The element you looking for is at index -1 in the array\n"
     ]
    }
   ],
   "source": [
    "# 6.\n",
    "\n",
    "print(\"--------------------------------------------\")\n",
    "print(\"\\n\")\n",
    "print(\"Problem No.6: Find index in array for item\")\n",
    "\n",
    "def index(myArray, myElement):\n",
    "    def index_recursive(lst, num): # num is the container that holds myElement for comparison with 1st\n",
    "        # Termination condition/base case \n",
    "        if lst[0] == num: # If 1st matches num \n",
    "            return 0 # Finish recursion\n",
    "        return 1 + index_recursive(lst[1:], num) # Else return 1 and add to the recursive call made to sliced array from element 1 onward (Array slicing which creates a new array).\n",
    "    try: return index_recursive(myArray, myElement) # Try: recurse again on array  \n",
    "    except IndexError: return -1 # Except: If element not found in array return -1\n",
    "\n",
    "\n",
    "# Element in list:\n",
    "print(\"The element you looking for is at index\", index([1,2,3,4,5,6],6), \"in the array\")\n",
    "# Example of element not in list:\n",
    "print(\"The element you looking for is at index\", index([1,2,3,4,5,6],9), \"in the array\")"
   ]
  },
  {
   "cell_type": "markdown",
   "metadata": {},
   "source": [
    "7. Sum of Digits: Given a whole, number such as 23, return the sum of the digits in the number i.e. 2 + 3 = 5. "
   ]
  },
  {
   "cell_type": "code",
   "execution_count": 37,
   "metadata": {},
   "outputs": [
    {
     "name": "stdout",
     "output_type": "stream",
     "text": [
      "--------------------------------------------\n",
      "\n",
      "\n",
      "Problem No.7: Sum of Digits\n",
      "Please enter a number to calculate the sum of its digits: 255\n",
      "The sum of your numbers digits is: 12\n"
     ]
    }
   ],
   "source": [
    "# 7.\n",
    "\n",
    "print(\"--------------------------------------------\")\n",
    "print(\"\\n\")\n",
    "print(\"Problem No.7: Sum of Digits\")\n",
    "\n",
    "def sum_of_digits(number):\n",
    "    # Termination condition/base case \n",
    "    if number == 0: # If no number \n",
    "        return 0 # Stop recusion\n",
    "    else:\n",
    "        # Applying modulo (%) 10 returns the rightmost digit e.g. if the number was 255 then: (255 % 10 == 5), \n",
    "        # While doing integer division by 10 removes the rightmost digit (255 // 10 is 25)\n",
    "        # Essentially, we get both array slices until we reach the base case of 0, the we add these slices that \n",
    "        # were originally pushed onto the stack\n",
    "        return (number % 10) + sum_of_digits(number // 10) # Return the sliced digits added together\n",
    "\n",
    "number = int(input('Please enter a number to calculate the sum of its digits: ')) # Prompt user for number\n",
    "print('The sum of your numbers digits is:', sum_of_digits(number))"
   ]
  },
  {
   "cell_type": "markdown",
   "metadata": {},
   "source": [
    "8. Print an array: Given an array of integers prints all the elements one per"
   ]
  },
  {
   "cell_type": "code",
   "execution_count": 34,
   "metadata": {},
   "outputs": [
    {
     "name": "stdout",
     "output_type": "stream",
     "text": [
      "--------------------------------------------\n",
      "\n",
      "\n",
      "Problem No.8: Print an array\n",
      "Please enter 5 numbers to create an array: 2\n",
      "Please enter 5 numbers to create an array: 3\n",
      "Please enter 5 numbers to create an array: 5\n",
      "Please enter 5 numbers to create an array: 7\n",
      "Please enter 5 numbers to create an array: 11\n",
      "This is your array [2, 3, 5, 7, 11] with one element printed per line:\n",
      "\n",
      "2\n",
      "3\n",
      "5\n",
      "7\n",
      "11\n",
      "None\n"
     ]
    }
   ],
   "source": [
    "# 8.\n",
    "\n",
    "print(\"--------------------------------------------\")\n",
    "print(\"\\n\")\n",
    "print(\"Problem No.8: Print an array\")\n",
    "\n",
    "array5 = [] # Empty array to be filled by user\n",
    " \n",
    "for i in range(0, 5): # Set up loop to run 5 times, i.e. to ask for 5 array elements\n",
    "    number = int(input('Please enter 5 numbers to create an array: ')) # Provide array prompt for users choice\n",
    "    array5.append(number) # Append to array5\n",
    "\n",
    "def onePerLine(array5, i=0):\n",
    "    if i < len(array5): # If i is less than the array length\n",
    "        print(array5[i]) # # Print element\n",
    "        onePerLine(array5, i+1) # Make recursive call array with i incremented by one.\n",
    "                                # Recursion ends by itself as soon as i exceeds the length of the list.\n",
    "                                # There is no return statement so \"none\" is printed as a result\n",
    "print(\"This is your array\", array5, \"with one element printed per line:\\n\")\n",
    "print(onePerLine(array5))"
   ]
  },
  {
   "cell_type": "markdown",
   "metadata": {},
   "source": [
    "9. Find the minimum element in an array of integers: You can carry some extra information through method arguments such as minimum value."
   ]
  },
  {
   "cell_type": "code",
   "execution_count": 35,
   "metadata": {},
   "outputs": [
    {
     "name": "stdout",
     "output_type": "stream",
     "text": [
      "--------------------------------------------\n",
      "\n",
      "\n",
      "Problem No.9: Find the minimum element in an array of integers\n",
      "Please enter 5 numbers to create an array: -88\n",
      "Please enter 5 numbers to create an array: 88\n",
      "Please enter 5 numbers to create an array: 0\n",
      "Please enter 5 numbers to create an array: 1\n",
      "Please enter 5 numbers to create an array: 1000\n",
      "The minimum element in your array [-88, 88, 0, 1, 1000] is: -88\n"
     ]
    }
   ],
   "source": [
    "# 9. \n",
    "\n",
    "print(\"--------------------------------------------\")\n",
    "print(\"\\n\")\n",
    "print(\"Problem No.9: Find the minimum element in an array of integers\")\n",
    "\n",
    "array6 = [] # Empty array to be filled by user\n",
    " \n",
    "for i in range(0, 5): # Set up loop to run 5 times, i.e. to ask for 5 array elements\n",
    "    number = int(input('Please enter 5 numbers to create an array: ')) # Provide array prompt for users choice\n",
    "    array6.append(number) # append to our_list\n",
    "\n",
    "def find_min_element(array6):\n",
    "    # Termination condition/base case\n",
    "    if len(array6) == 1: # if only one element in array\n",
    "       return array6[0] # Stop recursion\n",
    "    else: # Go through array recursively call each element onto the stack:\n",
    "       return min(array6[0], find_min_element(array6[1:]))  # Return implemented min method to determine lowest \n",
    "                                                            # value on newly sliced array \n",
    "                                                            \n",
    "\n",
    "print(\"The minimum element in your array\", array6, \"is:\", find_min_element(array6))"
   ]
  },
  {
   "cell_type": "markdown",
   "metadata": {},
   "source": [
    "10. Verify the parentheses: Given a string, return true if it is a nesting of zero or more pairs of parenthesis, like \\(())\" or \\((()))\"."
   ]
  },
  {
   "cell_type": "code",
   "execution_count": 36,
   "metadata": {},
   "outputs": [
    {
     "name": "stdout",
     "output_type": "stream",
     "text": [
      "--------------------------------------------\n",
      "\n",
      "\n",
      "Problem No.10: Verify the parenthesis\n",
      "True\n",
      "True\n",
      "False\n"
     ]
    }
   ],
   "source": [
    "# 10.\n",
    "\n",
    "print(\"--------------------------------------------\")\n",
    "print(\"\\n\")\n",
    "print(\"Problem No.10: Verify the parenthesis\")\n",
    "\n",
    "def nest_bal_parenth(str):\n",
    "    # Termination condition/base case:\n",
    "    if str == \"\": # if string is empty return True (this will occur after all recursive calls have been made from outside to inside)\n",
    "        return True\n",
    "    elif len(str) == 0: # if string has no elements return True\n",
    "        return True\n",
    "    elif len(str) == 1: # if string has only one element return False\n",
    "        return False\n",
    "    elif str[0] == '(' and str[-1] == ')': # Check if FIRST and LAST elements of string match opening and closing respectively (must be balanced, not just symmetrical) of string (must be balanced, not just symmetrical)\n",
    "        # push those elements onto the stack and move inwards:\n",
    "        return nest_bal_parenth(str[1:-1]) # Recur what is inside first and last elements and work inwards toward centre until \"\" is all that is left\n",
    "    return False # Else return False\n",
    "\n",
    "# Tested examples:\n",
    "print(nest_bal_parenth(\"\")) # Base case example\n",
    "print(nest_bal_parenth(\"(((())))\")) # This example will return True as it is a balanced nesting of zero or more pairs\n",
    "print(nest_bal_parenth(\"(((()\")) # This example will return False as unbalanced with no nesting"
   ]
  }
 ],
 "metadata": {
  "kernelspec": {
   "display_name": "Python 3",
   "language": "python",
   "name": "python3"
  },
  "language_info": {
   "codemirror_mode": {
    "name": "ipython",
    "version": 3
   },
   "file_extension": ".py",
   "mimetype": "text/x-python",
   "name": "python",
   "nbconvert_exporter": "python",
   "pygments_lexer": "ipython3",
   "version": "3.7.5"
  }
 },
 "nbformat": 4,
 "nbformat_minor": 2
}
