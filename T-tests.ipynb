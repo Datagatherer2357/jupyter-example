{
 "cells": [
  {
   "cell_type": "markdown",
   "metadata": {},
   "source": [
    "### T-tests"
   ]
  },
  {
   "cell_type": "code",
   "execution_count": 1,
   "metadata": {},
   "outputs": [],
   "source": [
    "import scipy.stats as ss"
   ]
  },
  {
   "cell_type": "code",
   "execution_count": 2,
   "metadata": {},
   "outputs": [
    {
     "data": {
      "text/plain": [
       "<function scipy.stats.stats.ttest_ind(a, b, axis=0, equal_var=True, nan_policy='propagate')>"
      ]
     },
     "execution_count": 2,
     "metadata": {},
     "output_type": "execute_result"
    }
   ],
   "source": [
    "ss.ttest_ind # "
   ]
  },
  {
   "cell_type": "code",
   "execution_count": 3,
   "metadata": {},
   "outputs": [],
   "source": [
    "import numpy as np"
   ]
  },
  {
   "cell_type": "code",
   "execution_count": 10,
   "metadata": {},
   "outputs": [],
   "source": [
    "m = np.random.normal(1.8, 0.1, 30) # male height, SD, samples"
   ]
  },
  {
   "cell_type": "code",
   "execution_count": 11,
   "metadata": {},
   "outputs": [],
   "source": [
    "f = np.random.normal(1.6, 0.1, 30) # female height, SD, samples"
   ]
  },
  {
   "cell_type": "code",
   "execution_count": 12,
   "metadata": {},
   "outputs": [
    {
     "data": {
      "text/plain": [
       "array([1.95840004, 1.6237674 , 1.76889706, 1.75692762, 1.66287025,\n",
       "       1.77782733, 1.65660705, 1.8123413 , 1.72399252, 1.97858648,\n",
       "       1.65632347, 1.88782359, 1.72061278, 1.66636863, 1.82397162,\n",
       "       1.90034835, 1.79847368, 1.69956338, 1.72589618, 1.66806317,\n",
       "       1.64844029, 1.96972357, 1.96217405, 1.91732622, 1.62425564,\n",
       "       1.78184821, 1.91161751, 1.65071687, 1.80045332, 1.81209562])"
      ]
     },
     "execution_count": 12,
     "metadata": {},
     "output_type": "execute_result"
    }
   ],
   "source": [
    "m"
   ]
  },
  {
   "cell_type": "code",
   "execution_count": 13,
   "metadata": {},
   "outputs": [
    {
     "data": {
      "text/plain": [
       "array([1.41546268, 1.44856902, 1.43835752, 1.57772801, 1.72757665,\n",
       "       1.77987972, 1.5440813 , 1.61388271, 1.59271614, 1.56411682,\n",
       "       1.60600775, 1.60496781, 1.53744823, 1.73141745, 1.59807952,\n",
       "       1.77340967, 1.51958064, 1.52178016, 1.4744011 , 1.51332216,\n",
       "       1.62661279, 1.53355107, 1.69268864, 1.59900473, 1.52316355,\n",
       "       1.58846144, 1.71873151, 1.51762296, 1.63484951, 1.66728983])"
      ]
     },
     "execution_count": 13,
     "metadata": {},
     "output_type": "execute_result"
    }
   ],
   "source": [
    "f"
   ]
  },
  {
   "cell_type": "code",
   "execution_count": 16,
   "metadata": {},
   "outputs": [
    {
     "data": {
      "text/plain": [
       "Ttest_indResult(statistic=6.9381510001116515, pvalue=3.7228364855374737e-09)"
      ]
     },
     "execution_count": 16,
     "metadata": {},
     "output_type": "execute_result"
    }
   ],
   "source": [
    "ss.ttest_ind(m, f)\n",
    "# Null hypothesis is refering to the population mean \n",
    "# not the sample mean (We are under THIS assumption)"
   ]
  },
  {
   "cell_type": "code",
   "execution_count": null,
   "metadata": {},
   "outputs": [],
   "source": []
  }
 ],
 "metadata": {
  "kernelspec": {
   "display_name": "Python 3",
   "language": "python",
   "name": "python3"
  },
  "language_info": {
   "codemirror_mode": {
    "name": "ipython",
    "version": 3
   },
   "file_extension": ".py",
   "mimetype": "text/x-python",
   "name": "python",
   "nbconvert_exporter": "python",
   "pygments_lexer": "ipython3",
   "version": "3.7.1"
  }
 },
 "nbformat": 4,
 "nbformat_minor": 2
}
