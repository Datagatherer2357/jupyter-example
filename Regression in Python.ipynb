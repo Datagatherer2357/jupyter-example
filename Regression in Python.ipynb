{
 "cells": [
  {
   "cell_type": "markdown",
   "metadata": {},
   "source": [
    "## Regression in Python\n",
    "\n",
    "https://realpython.com/linear-regression-in-python/"
   ]
  },
  {
   "cell_type": "code",
   "execution_count": 1,
   "metadata": {},
   "outputs": [],
   "source": [
    "# Import packages.\n",
    "import numpy as np\n",
    "import matplotlib.pyplot as plt"
   ]
  },
  {
   "cell_type": "code",
   "execution_count": 3,
   "metadata": {},
   "outputs": [
    {
     "data": {
      "text/plain": [
       "array([ 0. ,  0.5,  1. ,  1.5,  2. ,  2.5,  3. ,  3.5,  4. ,  4.5,  5. ,\n",
       "        5.5,  6. ,  6.5,  7. ,  7.5,  8. ,  8.5,  9. ,  9.5, 10. ])"
      ]
     },
     "execution_count": 3,
     "metadata": {},
     "output_type": "execute_result"
    }
   ],
   "source": [
    "# Set up some x values.\n",
    "x = np.arange(0.0, 10.1, 0.5)  \n",
    "                                # linspace is also very applicable\n",
    "x"
   ]
  },
  {
   "cell_type": "code",
   "execution_count": 4,
   "metadata": {
    "scrolled": true
   },
   "outputs": [
    {
     "data": {
      "text/plain": [
       "21"
      ]
     },
     "execution_count": 4,
     "metadata": {},
     "output_type": "execute_result"
    }
   ],
   "source": [
    "len(x)"
   ]
  },
  {
   "cell_type": "code",
   "execution_count": 46,
   "metadata": {},
   "outputs": [
    {
     "data": {
      "text/plain": [
       "array([ 2. ,  4.5,  7. ,  9.5, 12. , 14.5, 17. , 19.5, 22. , 24.5, 27. ,\n",
       "       29.5, 32. , 34.5, 37. , 39.5, 42. , 44.5, 47. , 49.5, 52. ])"
      ]
     },
     "execution_count": 46,
     "metadata": {},
     "output_type": "execute_result"
    }
   ],
   "source": [
    "y = 5.0 * x + 2.0\n",
    "y"
   ]
  },
  {
   "cell_type": "code",
   "execution_count": 47,
   "metadata": {},
   "outputs": [
    {
     "data": {
      "text/plain": [
       "array([5., 2.])"
      ]
     },
     "execution_count": 47,
     "metadata": {},
     "output_type": "execute_result"
    }
   ],
   "source": [
    "np.polyfit(x, y, 1)"
   ]
  },
  {
   "cell_type": "code",
   "execution_count": 39,
   "metadata": {},
   "outputs": [],
   "source": [
    "# Let's add error like what typically is the case in the real world:\n",
    "\n",
    "# Create y - note numpy's element-wise operations. Takes each individual element in the x array and multiplies by 5 (in this case)\n",
    "# Equation of a line: and add in the epsilon (error) via numpy normal distribution\n",
    "y = 5.0 * x + 2.0 + np.random.normal(0.0, 1.0, len(x)) # Here, m is 5, and c is 2"
   ]
  },
  {
   "cell_type": "code",
   "execution_count": 40,
   "metadata": {},
   "outputs": [
    {
     "data": {
      "text/plain": [
       "array([ 3.96562032,  3.005382  ,  6.46740466,  8.51626656, 12.0369296 ,\n",
       "       16.8711562 , 14.83830288, 19.91493782, 24.93699349, 24.4416437 ,\n",
       "       27.35822193, 29.13688742, 29.19774043, 35.31440177, 36.31507936,\n",
       "       39.41210619, 41.09010785, 43.80774059, 48.00288136, 49.59513067,\n",
       "       52.26544188])"
      ]
     },
     "execution_count": 40,
     "metadata": {},
     "output_type": "execute_result"
    }
   ],
   "source": [
    "y"
   ]
  },
  {
   "cell_type": "code",
   "execution_count": 41,
   "metadata": {},
   "outputs": [
    {
     "data": {
      "text/plain": [
       "[<matplotlib.lines.Line2D at 0xc689450>]"
      ]
     },
     "execution_count": 41,
     "metadata": {},
     "output_type": "execute_result"
    },
    {
     "data": {
      "image/png": "[encoded data removed]",
      "text/plain": [
       "<Figure size 432x288 with 1 Axes>"
      ]
     },
     "metadata": {
      "needs_background": "light"
     },
     "output_type": "display_data"
    }
   ],
   "source": [
    "# Plot x versus y.\n",
    "plt.plot(x, y, 'k.') # the third argument in plot takes the plotting point aesthetics"
   ]
  },
  {
   "cell_type": "markdown",
   "metadata": {},
   "source": [
    "What would this line be if we didn't know the \"equation of the line\"?"
   ]
  },
  {
   "cell_type": "code",
   "execution_count": 48,
   "metadata": {},
   "outputs": [
    {
     "data": {
      "text/plain": [
       "array([5., 2.])"
      ]
     },
     "execution_count": 48,
     "metadata": {},
     "output_type": "execute_result"
    }
   ],
   "source": [
    "# All you need is any 2 of theses points\n",
    "# Let's look at a polynomial fit using NumPy\n",
    "\n",
    "# Do regression on the x and y arrays using numpy. Least squares fitting.\n",
    "np.polyfit(x, y, 1) # third argument is the deg argument?\n",
    "\n",
    "# Thus, polyfit is telling us the best way to get y from x is for the first constant to by 5 and the second constant to be 2\n",
    "# Best way to describe the relationship between x and y: It is saying if you take x, multiply it by 5 and add 2, you'll get the values for y  \n",
    "# It essentially is reverse engneering"
   ]
  },
  {
   "cell_type": "code",
   "execution_count": 49,
   "metadata": {},
   "outputs": [
    {
     "data": {
      "text/plain": [
       "array([5., 2.])"
      ]
     },
     "execution_count": 49,
     "metadata": {},
     "output_type": "execute_result"
    }
   ],
   "source": [
    "# Here it is proven:\n",
    "np.polyfit(x[0:2], y[0:2], 1) # start at 0th element up to 2nd in each array"
   ]
  },
  {
   "cell_type": "code",
   "execution_count": 26,
   "metadata": {},
   "outputs": [],
   "source": [
    "# Thus, if we just give polyfit only 2 pairs it will tell you "
   ]
  },
  {
   "cell_type": "markdown",
   "metadata": {},
   "source": [
    "***\n",
    "$$ y = m x + c $$\n",
    "\n",
    "m is the slope, c the y-intercept\n",
    "***\n",
    "But what about real world error? Model for my regression:\n",
    "\n",
    "$$ y =  m x + c + \\epsilon $$\n",
    "\n",
    "epsilon$$\\epsilon$$ \n",
    "\n",
    "is usually a random variable could be 0 or next could be 0.01 etc (tricky to measure). Epsilon represents **error** i.e. things we can't measure. It is the error in our measuring the relationship between x and y. Ideally we want 0 error. It exists in the real world. We never know the **m** and the **c** beforehand."
   ]
  },
  {
   "cell_type": "code",
   "execution_count": 28,
   "metadata": {},
   "outputs": [],
   "source": [
    "# Create a y with noise.\n",
    "y = 3.0 * x - 1.0 + np.random.normal(0.0, 1.0, len(x))"
   ]
  },
  {
   "cell_type": "code",
   "execution_count": null,
   "metadata": {},
   "outputs": [],
   "source": []
  }
 ],
 "metadata": {
  "kernelspec": {
   "display_name": "Python 3",
   "language": "python",
   "name": "python3"
  },
  "language_info": {
   "codemirror_mode": {
    "name": "ipython",
    "version": 3
   },
   "file_extension": ".py",
   "mimetype": "text/x-python",
   "name": "python",
   "nbconvert_exporter": "python",
   "pygments_lexer": "ipython3",
   "version": "3.7.1"
  }
 },
 "nbformat": 4,
 "nbformat_minor": 2
}
