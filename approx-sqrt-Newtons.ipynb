{
 "cells": [
  {
   "cell_type": "markdown",
   "metadata": {},
   "source": [
    "This algorithm finds an approximation to the correct answer, i.e. the correct square root. This works by continuously looping until it meets the desired condition, hence a while loop is used. This is the essence of machine learning."
   ]
  },
  {
   "cell_type": "code",
   "execution_count": 14,
   "metadata": {},
   "outputs": [
    {
     "name": "stdout",
     "output_type": "stream",
     "text": [
      "2.8284271250498643\n"
     ]
    }
   ],
   "source": [
    "# Adpated from :https://tour.golang.org/flowcontrol/8\n",
    "# The essence of ML\n",
    "\n",
    "def sqrt(x):\n",
    "    # Initial guess:\n",
    "    z = 1.0     # to specify we want a floating point value\n",
    "                # Keep getting a better estaimate for the sqrt of x until\n",
    "                # you are within 2 decimal places\n",
    "    \n",
    "    # The difference between z squared and x is the difference\n",
    "    # between the square root squared and the number itself\n",
    "    \n",
    "    while abs(z*z - x) > 0.0001:    # abs is \"absolute value\" always returns a positive value\n",
    "                                    # removes the sign returns a pos int\n",
    "                                    # The number after the > is the tolerance level\n",
    "                \n",
    "        # Get a better approximation for the sqrt:\n",
    "        z -= (z*z - x) / (2*z)  # This is Newton's method. In fact it took years of\n",
    "                                # research to figure this out. Even decades after Newton\n",
    "                                # invented calculus\n",
    "    \n",
    "    # Return z:\n",
    "    return z \n",
    "\n",
    "# Calculate the sqrt of e.g. 8 and print\n",
    "z = (sqrt(8.0))\n",
    "print(z)"
   ]
  },
  {
   "cell_type": "code",
   "execution_count": 12,
   "metadata": {},
   "outputs": [
    {
     "name": "stdout",
     "output_type": "stream",
     "text": [
      "8.00000000171784\n"
     ]
    }
   ],
   "source": [
    "# Let's check that:\n",
    "\n",
    "2.8284685718801468 * 2.8284685718801468\n",
    "\n",
    "# Or: \n",
    "\n",
    "print(z*z)"
   ]
  },
  {
   "cell_type": "code",
   "execution_count": 13,
   "metadata": {},
   "outputs": [
    {
     "data": {
      "text/plain": [
       "4.123106716962796"
      ]
     },
     "execution_count": 13,
     "metadata": {},
     "output_type": "execute_result"
    }
   ],
   "source": [
    "# Let's try another number:\n",
    "\n",
    "sqrt(17.0)"
   ]
  },
  {
   "cell_type": "code",
   "execution_count": null,
   "metadata": {},
   "outputs": [],
   "source": []
  }
 ],
 "metadata": {
  "kernelspec": {
   "display_name": "Python 3",
   "language": "python",
   "name": "python3"
  },
  "language_info": {
   "codemirror_mode": {
    "name": "ipython",
    "version": 3
   },
   "file_extension": ".py",
   "mimetype": "text/x-python",
   "name": "python",
   "nbconvert_exporter": "python",
   "pygments_lexer": "ipython3",
   "version": "3.7.1"
  }
 },
 "nbformat": 4,
 "nbformat_minor": 2
}
