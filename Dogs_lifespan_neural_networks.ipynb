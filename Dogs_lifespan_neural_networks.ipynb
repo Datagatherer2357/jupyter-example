{
 "cells": [
  {
   "cell_type": "markdown",
   "metadata": {},
   "source": [
    "### Predicting dog lifespan "
   ]
  },
  {
   "cell_type": "code",
   "execution_count": 12,
   "metadata": {},
   "outputs": [],
   "source": [
    "import keras \n",
    "import tensorflow\n",
    "import pandas as pd\n",
    "import tensorflow.keras as kr"
   ]
  },
  {
   "cell_type": "code",
   "execution_count": 15,
   "metadata": {},
   "outputs": [
    {
     "data": {
      "text/html": [
       "<div>\n",
       "<style scoped>\n",
       "    .dataframe tbody tr th:only-of-type {\n",
       "        vertical-align: middle;\n",
       "    }\n",
       "\n",
       "    .dataframe tbody tr th {\n",
       "        vertical-align: top;\n",
       "    }\n",
       "\n",
       "    .dataframe thead th {\n",
       "        text-align: right;\n",
       "    }\n",
       "</style>\n",
       "<table border=\"1\" class=\"dataframe\">\n",
       "  <thead>\n",
       "    <tr style=\"text-align: right;\">\n",
       "      <th></th>\n",
       "      <th>pure</th>\n",
       "      <th>age</th>\n",
       "      <th>weight</th>\n",
       "      <th>height</th>\n",
       "      <th>lifespan</th>\n",
       "    </tr>\n",
       "  </thead>\n",
       "  <tbody>\n",
       "    <tr>\n",
       "      <th>0</th>\n",
       "      <td>True</td>\n",
       "      <td>3</td>\n",
       "      <td>7.94</td>\n",
       "      <td>49.6</td>\n",
       "      <td>15</td>\n",
       "    </tr>\n",
       "    <tr>\n",
       "      <th>1</th>\n",
       "      <td>True</td>\n",
       "      <td>7</td>\n",
       "      <td>5.05</td>\n",
       "      <td>63.5</td>\n",
       "      <td>17</td>\n",
       "    </tr>\n",
       "    <tr>\n",
       "      <th>2</th>\n",
       "      <td>True</td>\n",
       "      <td>6</td>\n",
       "      <td>16.15</td>\n",
       "      <td>68.2</td>\n",
       "      <td>11</td>\n",
       "    </tr>\n",
       "    <tr>\n",
       "      <th>3</th>\n",
       "      <td>False</td>\n",
       "      <td>3</td>\n",
       "      <td>15.50</td>\n",
       "      <td>64.7</td>\n",
       "      <td>12</td>\n",
       "    </tr>\n",
       "    <tr>\n",
       "      <th>4</th>\n",
       "      <td>False</td>\n",
       "      <td>3</td>\n",
       "      <td>12.17</td>\n",
       "      <td>59.7</td>\n",
       "      <td>14</td>\n",
       "    </tr>\n",
       "    <tr>\n",
       "      <th>...</th>\n",
       "      <td>...</td>\n",
       "      <td>...</td>\n",
       "      <td>...</td>\n",
       "      <td>...</td>\n",
       "      <td>...</td>\n",
       "    </tr>\n",
       "    <tr>\n",
       "      <th>95</th>\n",
       "      <td>False</td>\n",
       "      <td>4</td>\n",
       "      <td>20.76</td>\n",
       "      <td>52.2</td>\n",
       "      <td>10</td>\n",
       "    </tr>\n",
       "    <tr>\n",
       "      <th>96</th>\n",
       "      <td>False</td>\n",
       "      <td>4</td>\n",
       "      <td>17.40</td>\n",
       "      <td>47.5</td>\n",
       "      <td>11</td>\n",
       "    </tr>\n",
       "    <tr>\n",
       "      <th>97</th>\n",
       "      <td>False</td>\n",
       "      <td>6</td>\n",
       "      <td>15.60</td>\n",
       "      <td>51.4</td>\n",
       "      <td>12</td>\n",
       "    </tr>\n",
       "    <tr>\n",
       "      <th>98</th>\n",
       "      <td>False</td>\n",
       "      <td>3</td>\n",
       "      <td>8.37</td>\n",
       "      <td>54.1</td>\n",
       "      <td>16</td>\n",
       "    </tr>\n",
       "    <tr>\n",
       "      <th>99</th>\n",
       "      <td>True</td>\n",
       "      <td>7</td>\n",
       "      <td>9.09</td>\n",
       "      <td>50.3</td>\n",
       "      <td>14</td>\n",
       "    </tr>\n",
       "  </tbody>\n",
       "</table>\n",
       "<p>100 rows × 5 columns</p>\n",
       "</div>"
      ],
      "text/plain": [
       "     pure  age  weight  height  lifespan\n",
       "0    True    3    7.94    49.6        15\n",
       "1    True    7    5.05    63.5        17\n",
       "2    True    6   16.15    68.2        11\n",
       "3   False    3   15.50    64.7        12\n",
       "4   False    3   12.17    59.7        14\n",
       "..    ...  ...     ...     ...       ...\n",
       "95  False    4   20.76    52.2        10\n",
       "96  False    4   17.40    47.5        11\n",
       "97  False    6   15.60    51.4        12\n",
       "98  False    3    8.37    54.1        16\n",
       "99   True    7    9.09    50.3        14\n",
       "\n",
       "[100 rows x 5 columns]"
      ]
     },
     "execution_count": 15,
     "metadata": {},
     "output_type": "execute_result"
    }
   ],
   "source": [
    "import numpy as np\n",
    "import io\n",
    "import requests\n",
    "url=\"https://raw.githubusercontent.com/ianmcloughlin/datasets/master/dogs.csv\"\n",
    "s=requests.get(url).content\n",
    "df=pd.read_csv(io.StringIO(s.decode('utf-8'))) \n",
    "df"
   ]
  },
  {
   "cell_type": "code",
   "execution_count": 16,
   "metadata": {},
   "outputs": [
    {
     "data": {
      "text/html": [
       "<div>\n",
       "<style scoped>\n",
       "    .dataframe tbody tr th:only-of-type {\n",
       "        vertical-align: middle;\n",
       "    }\n",
       "\n",
       "    .dataframe tbody tr th {\n",
       "        vertical-align: top;\n",
       "    }\n",
       "\n",
       "    .dataframe thead th {\n",
       "        text-align: right;\n",
       "    }\n",
       "</style>\n",
       "<table border=\"1\" class=\"dataframe\">\n",
       "  <thead>\n",
       "    <tr style=\"text-align: right;\">\n",
       "      <th></th>\n",
       "      <th>pure</th>\n",
       "      <th>age</th>\n",
       "      <th>weight</th>\n",
       "      <th>height</th>\n",
       "      <th>lifespan</th>\n",
       "      <th>ispure</th>\n",
       "      <th>isnotpure</th>\n",
       "    </tr>\n",
       "  </thead>\n",
       "  <tbody>\n",
       "    <tr>\n",
       "      <th>0</th>\n",
       "      <td>True</td>\n",
       "      <td>3</td>\n",
       "      <td>7.94</td>\n",
       "      <td>49.6</td>\n",
       "      <td>15</td>\n",
       "      <td>1</td>\n",
       "      <td>0</td>\n",
       "    </tr>\n",
       "    <tr>\n",
       "      <th>1</th>\n",
       "      <td>True</td>\n",
       "      <td>7</td>\n",
       "      <td>5.05</td>\n",
       "      <td>63.5</td>\n",
       "      <td>17</td>\n",
       "      <td>1</td>\n",
       "      <td>0</td>\n",
       "    </tr>\n",
       "    <tr>\n",
       "      <th>2</th>\n",
       "      <td>True</td>\n",
       "      <td>6</td>\n",
       "      <td>16.15</td>\n",
       "      <td>68.2</td>\n",
       "      <td>11</td>\n",
       "      <td>1</td>\n",
       "      <td>0</td>\n",
       "    </tr>\n",
       "    <tr>\n",
       "      <th>3</th>\n",
       "      <td>False</td>\n",
       "      <td>3</td>\n",
       "      <td>15.50</td>\n",
       "      <td>64.7</td>\n",
       "      <td>12</td>\n",
       "      <td>0</td>\n",
       "      <td>1</td>\n",
       "    </tr>\n",
       "    <tr>\n",
       "      <th>4</th>\n",
       "      <td>False</td>\n",
       "      <td>3</td>\n",
       "      <td>12.17</td>\n",
       "      <td>59.7</td>\n",
       "      <td>14</td>\n",
       "      <td>0</td>\n",
       "      <td>1</td>\n",
       "    </tr>\n",
       "    <tr>\n",
       "      <th>...</th>\n",
       "      <td>...</td>\n",
       "      <td>...</td>\n",
       "      <td>...</td>\n",
       "      <td>...</td>\n",
       "      <td>...</td>\n",
       "      <td>...</td>\n",
       "      <td>...</td>\n",
       "    </tr>\n",
       "    <tr>\n",
       "      <th>95</th>\n",
       "      <td>False</td>\n",
       "      <td>4</td>\n",
       "      <td>20.76</td>\n",
       "      <td>52.2</td>\n",
       "      <td>10</td>\n",
       "      <td>0</td>\n",
       "      <td>1</td>\n",
       "    </tr>\n",
       "    <tr>\n",
       "      <th>96</th>\n",
       "      <td>False</td>\n",
       "      <td>4</td>\n",
       "      <td>17.40</td>\n",
       "      <td>47.5</td>\n",
       "      <td>11</td>\n",
       "      <td>0</td>\n",
       "      <td>1</td>\n",
       "    </tr>\n",
       "    <tr>\n",
       "      <th>97</th>\n",
       "      <td>False</td>\n",
       "      <td>6</td>\n",
       "      <td>15.60</td>\n",
       "      <td>51.4</td>\n",
       "      <td>12</td>\n",
       "      <td>0</td>\n",
       "      <td>1</td>\n",
       "    </tr>\n",
       "    <tr>\n",
       "      <th>98</th>\n",
       "      <td>False</td>\n",
       "      <td>3</td>\n",
       "      <td>8.37</td>\n",
       "      <td>54.1</td>\n",
       "      <td>16</td>\n",
       "      <td>0</td>\n",
       "      <td>1</td>\n",
       "    </tr>\n",
       "    <tr>\n",
       "      <th>99</th>\n",
       "      <td>True</td>\n",
       "      <td>7</td>\n",
       "      <td>9.09</td>\n",
       "      <td>50.3</td>\n",
       "      <td>14</td>\n",
       "      <td>1</td>\n",
       "      <td>0</td>\n",
       "    </tr>\n",
       "  </tbody>\n",
       "</table>\n",
       "<p>100 rows × 7 columns</p>\n",
       "</div>"
      ],
      "text/plain": [
       "     pure  age  weight  height  lifespan  ispure  isnotpure\n",
       "0    True    3    7.94    49.6        15       1          0\n",
       "1    True    7    5.05    63.5        17       1          0\n",
       "2    True    6   16.15    68.2        11       1          0\n",
       "3   False    3   15.50    64.7        12       0          1\n",
       "4   False    3   12.17    59.7        14       0          1\n",
       "..    ...  ...     ...     ...       ...     ...        ...\n",
       "95  False    4   20.76    52.2        10       0          1\n",
       "96  False    4   17.40    47.5        11       0          1\n",
       "97  False    6   15.60    51.4        12       0          1\n",
       "98  False    3    8.37    54.1        16       0          1\n",
       "99   True    7    9.09    50.3        14       1          0\n",
       "\n",
       "[100 rows x 7 columns]"
      ]
     },
     "execution_count": 16,
     "metadata": {},
     "output_type": "execute_result"
    }
   ],
   "source": [
    "# Need to convert the booleans in the first row\n",
    "# For a categorical variable\n",
    "# Neural Nets dont like categoricals or booleans\n",
    "\n",
    "# return a list of true false values as 0/1 integers:\n",
    "df ['ispure'] = (df['pure']== True).astype(np.int) # asks is each of the values == True\n",
    "df ['isnotpure'] = (df['pure']== False).astype(np.int) \n",
    "\n",
    "# ispure and isnotpure essentially encode the same thing and one would do for\n",
    "# the network but we'll go with the two anyway\n",
    "df"
   ]
  },
  {
   "cell_type": "code",
   "execution_count": 8,
   "metadata": {},
   "outputs": [
    {
     "data": {
      "text/html": [
       "<div>\n",
       "<style scoped>\n",
       "    .dataframe tbody tr th:only-of-type {\n",
       "        vertical-align: middle;\n",
       "    }\n",
       "\n",
       "    .dataframe tbody tr th {\n",
       "        vertical-align: top;\n",
       "    }\n",
       "\n",
       "    .dataframe thead th {\n",
       "        text-align: right;\n",
       "    }\n",
       "</style>\n",
       "<table border=\"1\" class=\"dataframe\">\n",
       "  <thead>\n",
       "    <tr style=\"text-align: right;\">\n",
       "      <th></th>\n",
       "      <th>age</th>\n",
       "      <th>weight</th>\n",
       "      <th>height</th>\n",
       "      <th>ispure</th>\n",
       "      <th>isnotpure</th>\n",
       "    </tr>\n",
       "  </thead>\n",
       "  <tbody>\n",
       "    <tr>\n",
       "      <th>0</th>\n",
       "      <td>3</td>\n",
       "      <td>7.94</td>\n",
       "      <td>49.6</td>\n",
       "      <td>1</td>\n",
       "      <td>0</td>\n",
       "    </tr>\n",
       "    <tr>\n",
       "      <th>1</th>\n",
       "      <td>7</td>\n",
       "      <td>5.05</td>\n",
       "      <td>63.5</td>\n",
       "      <td>1</td>\n",
       "      <td>0</td>\n",
       "    </tr>\n",
       "    <tr>\n",
       "      <th>2</th>\n",
       "      <td>6</td>\n",
       "      <td>16.15</td>\n",
       "      <td>68.2</td>\n",
       "      <td>1</td>\n",
       "      <td>0</td>\n",
       "    </tr>\n",
       "    <tr>\n",
       "      <th>3</th>\n",
       "      <td>3</td>\n",
       "      <td>15.50</td>\n",
       "      <td>64.7</td>\n",
       "      <td>0</td>\n",
       "      <td>1</td>\n",
       "    </tr>\n",
       "    <tr>\n",
       "      <th>4</th>\n",
       "      <td>3</td>\n",
       "      <td>12.17</td>\n",
       "      <td>59.7</td>\n",
       "      <td>0</td>\n",
       "      <td>1</td>\n",
       "    </tr>\n",
       "    <tr>\n",
       "      <th>...</th>\n",
       "      <td>...</td>\n",
       "      <td>...</td>\n",
       "      <td>...</td>\n",
       "      <td>...</td>\n",
       "      <td>...</td>\n",
       "    </tr>\n",
       "    <tr>\n",
       "      <th>95</th>\n",
       "      <td>4</td>\n",
       "      <td>20.76</td>\n",
       "      <td>52.2</td>\n",
       "      <td>0</td>\n",
       "      <td>1</td>\n",
       "    </tr>\n",
       "    <tr>\n",
       "      <th>96</th>\n",
       "      <td>4</td>\n",
       "      <td>17.40</td>\n",
       "      <td>47.5</td>\n",
       "      <td>0</td>\n",
       "      <td>1</td>\n",
       "    </tr>\n",
       "    <tr>\n",
       "      <th>97</th>\n",
       "      <td>6</td>\n",
       "      <td>15.60</td>\n",
       "      <td>51.4</td>\n",
       "      <td>0</td>\n",
       "      <td>1</td>\n",
       "    </tr>\n",
       "    <tr>\n",
       "      <th>98</th>\n",
       "      <td>3</td>\n",
       "      <td>8.37</td>\n",
       "      <td>54.1</td>\n",
       "      <td>0</td>\n",
       "      <td>1</td>\n",
       "    </tr>\n",
       "    <tr>\n",
       "      <th>99</th>\n",
       "      <td>7</td>\n",
       "      <td>9.09</td>\n",
       "      <td>50.3</td>\n",
       "      <td>1</td>\n",
       "      <td>0</td>\n",
       "    </tr>\n",
       "  </tbody>\n",
       "</table>\n",
       "<p>100 rows × 5 columns</p>\n",
       "</div>"
      ],
      "text/plain": [
       "    age  weight  height  ispure  isnotpure\n",
       "0     3    7.94    49.6       1          0\n",
       "1     7    5.05    63.5       1          0\n",
       "2     6   16.15    68.2       1          0\n",
       "3     3   15.50    64.7       0          1\n",
       "4     3   12.17    59.7       0          1\n",
       "..  ...     ...     ...     ...        ...\n",
       "95    4   20.76    52.2       0          1\n",
       "96    4   17.40    47.5       0          1\n",
       "97    6   15.60    51.4       0          1\n",
       "98    3    8.37    54.1       0          1\n",
       "99    7    9.09    50.3       1          0\n",
       "\n",
       "[100 rows x 5 columns]"
      ]
     },
     "execution_count": 8,
     "metadata": {},
     "output_type": "execute_result"
    }
   ],
   "source": [
    "# Create df of inputs:\n",
    "\n",
    "inputs = df[['age','weight','height','ispure', 'isnotpure' ]]\n",
    "inputs"
   ]
  },
  {
   "cell_type": "markdown",
   "metadata": {},
   "source": [
    "So, looking at the first input and output rows: What we want is:\n",
    "- when our inputs are: 3,7.94,49.6,1,0 (row 0)\n",
    "- our output SHOULD be: 15 (row 0)\n",
    "\n",
    "NN's take this list of inputs and produce one output...So let's do that now:"
   ]
  },
  {
   "cell_type": "code",
   "execution_count": 17,
   "metadata": {},
   "outputs": [
    {
     "data": {
      "text/plain": [
       "0     15\n",
       "1     17\n",
       "2     11\n",
       "3     12\n",
       "4     14\n",
       "      ..\n",
       "95    10\n",
       "96    11\n",
       "97    12\n",
       "98    16\n",
       "99    14\n",
       "Name: lifespan, Length: 100, dtype: int64"
      ]
     },
     "execution_count": 17,
     "metadata": {},
     "output_type": "execute_result"
    }
   ],
   "source": [
    "output = df['lifespan']\n",
    "output"
   ]
  },
  {
   "cell_type": "code",
   "execution_count": 72,
   "metadata": {},
   "outputs": [],
   "source": [
    "# fire up our NN:\n",
    "\n",
    "m = kr.models.Sequential() # create \"blank\" NN \n",
    "\n",
    "m.add(kr.layers.Dense(10, input_dim =5, activation='linear')) # always make the input dim amount the same as your IV's amount\n",
    "m.add(kr.layers.Dense(30, activation='sigmoid')) \n",
    "m.add(kr.layers.Dense(10, activation='linear')) # middle layer\n",
    "m.add(kr.layers.Dense(10, activation='linear')) \n",
    "m.add(kr.layers.Dense(1, activation='linear')) \n",
    "\n",
    "m.compile(loss='mse', optimizer='adam') # mse = mean square error\n"
   ]
  },
  {
   "cell_type": "code",
   "execution_count": 73,
   "metadata": {},
   "outputs": [
    {
     "name": "stdout",
     "output_type": "stream",
     "text": [
      "WARNING:tensorflow:Falling back from v2 loop because of error: Failed to find data adapter that can handle input: <class 'pandas.core.frame.DataFrame'>, <class 'NoneType'>\n",
      "Train on 100 samples\n",
      "Epoch 1/10\n",
      "100/100 [==============================] - 0s 3ms/sample - loss: 1056.8549\n",
      "Epoch 2/10\n",
      "100/100 [==============================] - 0s 210us/sample - loss: 746.5612\n",
      "Epoch 3/10\n",
      "100/100 [==============================] - 0s 300us/sample - loss: 492.1039\n",
      "Epoch 4/10\n",
      "100/100 [==============================] - 0s 320us/sample - loss: 306.7988\n",
      "Epoch 5/10\n",
      "100/100 [==============================] - 0s 300us/sample - loss: 174.2185\n",
      "Epoch 6/10\n",
      "100/100 [==============================] - 0s 330us/sample - loss: 88.2531\n",
      "Epoch 7/10\n",
      "100/100 [==============================] - 0s 230us/sample - loss: 43.5573\n",
      "Epoch 8/10\n",
      "100/100 [==============================] - 0s 360us/sample - loss: 26.2052\n",
      "Epoch 9/10\n",
      "100/100 [==============================] - 0s 260us/sample - loss: 21.2575\n",
      "Epoch 10/10\n",
      "100/100 [==============================] - 0s 410us/sample - loss: 20.9565\n"
     ]
    },
    {
     "data": {
      "text/plain": [
       "<tensorflow.python.keras.callbacks.History at 0x19bf979c488>"
      ]
     },
     "execution_count": 73,
     "metadata": {},
     "output_type": "execute_result"
    }
   ],
   "source": [
    "m.fit(inputs,output, epochs=10, batch_size=10)"
   ]
  },
  {
   "cell_type": "code",
   "execution_count": 74,
   "metadata": {
    "scrolled": true
   },
   "outputs": [
    {
     "name": "stdout",
     "output_type": "stream",
     "text": [
      "WARNING:tensorflow:Falling back from v2 loop because of error: Failed to find data adapter that can handle input: <class 'pandas.core.frame.DataFrame'>, <class 'NoneType'>\n"
     ]
    }
   ],
   "source": [
    "# show me the predictions for all my input values\n",
    "p = m.predict(inputs) # predict on the inputs (trained on the inputs)"
   ]
  },
  {
   "cell_type": "code",
   "execution_count": 75,
   "metadata": {},
   "outputs": [
    {
     "data": {
      "text/plain": [
       "array([[ 9.736402 ],\n",
       "       [10.389143 ],\n",
       "       [15.540645 ],\n",
       "       [15.043634 ],\n",
       "       [13.030772 ],\n",
       "       [ 9.351261 ],\n",
       "       [10.631618 ],\n",
       "       [12.917597 ],\n",
       "       [11.365661 ],\n",
       "       [15.215171 ],\n",
       "       [14.290494 ],\n",
       "       [ 9.417403 ],\n",
       "       [13.885721 ],\n",
       "       [12.313557 ],\n",
       "       [11.98933  ],\n",
       "       [13.881064 ],\n",
       "       [ 8.36671  ],\n",
       "       [12.885117 ],\n",
       "       [12.798228 ],\n",
       "       [16.818209 ],\n",
       "       [12.542617 ],\n",
       "       [13.459975 ],\n",
       "       [ 9.038718 ],\n",
       "       [14.346199 ],\n",
       "       [15.820327 ],\n",
       "       [12.32967  ],\n",
       "       [10.838526 ],\n",
       "       [12.709823 ],\n",
       "       [ 8.352098 ],\n",
       "       [14.788654 ],\n",
       "       [13.930247 ],\n",
       "       [14.885603 ],\n",
       "       [12.478488 ],\n",
       "       [ 7.557823 ],\n",
       "       [14.379173 ],\n",
       "       [11.14324  ],\n",
       "       [10.261701 ],\n",
       "       [10.978693 ],\n",
       "       [14.268152 ],\n",
       "       [11.863959 ],\n",
       "       [12.782398 ],\n",
       "       [12.619789 ],\n",
       "       [12.170157 ],\n",
       "       [12.842105 ],\n",
       "       [11.217465 ],\n",
       "       [13.890505 ],\n",
       "       [10.940453 ],\n",
       "       [16.738714 ],\n",
       "       [ 7.8600407],\n",
       "       [10.092603 ],\n",
       "       [15.140738 ],\n",
       "       [11.6687   ],\n",
       "       [14.726037 ],\n",
       "       [13.452851 ],\n",
       "       [16.504671 ],\n",
       "       [13.605652 ],\n",
       "       [13.639819 ],\n",
       "       [10.200026 ],\n",
       "       [15.07911  ],\n",
       "       [11.483953 ],\n",
       "       [13.164617 ],\n",
       "       [15.082833 ],\n",
       "       [13.498503 ],\n",
       "       [ 8.121198 ],\n",
       "       [10.4238405],\n",
       "       [10.854661 ],\n",
       "       [11.069604 ],\n",
       "       [14.175033 ],\n",
       "       [14.517247 ],\n",
       "       [13.904902 ],\n",
       "       [11.837613 ],\n",
       "       [10.869872 ],\n",
       "       [10.644138 ],\n",
       "       [15.100648 ],\n",
       "       [10.602318 ],\n",
       "       [ 7.605253 ],\n",
       "       [12.491823 ],\n",
       "       [ 9.054793 ],\n",
       "       [12.528843 ],\n",
       "       [15.746856 ],\n",
       "       [14.631485 ],\n",
       "       [14.123881 ],\n",
       "       [ 9.592483 ],\n",
       "       [13.396802 ],\n",
       "       [ 9.012778 ],\n",
       "       [14.259972 ],\n",
       "       [15.373548 ],\n",
       "       [ 9.830634 ],\n",
       "       [16.227531 ],\n",
       "       [13.53217  ],\n",
       "       [11.59769  ],\n",
       "       [14.023028 ],\n",
       "       [16.068117 ],\n",
       "       [10.190514 ],\n",
       "       [10.49115  ],\n",
       "       [15.594561 ],\n",
       "       [13.608197 ],\n",
       "       [13.394398 ],\n",
       "       [10.747486 ],\n",
       "       [10.338971 ]], dtype=float32)"
      ]
     },
     "execution_count": 75,
     "metadata": {},
     "output_type": "execute_result"
    }
   ],
   "source": [
    "p"
   ]
  },
  {
   "cell_type": "code",
   "execution_count": 66,
   "metadata": {},
   "outputs": [
    {
     "name": "stderr",
     "output_type": "stream",
     "text": [
      "C:\\Users\\Gareth Duffy\\Anaconda3\\lib\\site-packages\\ipykernel_launcher.py:1: FutureWarning: Method .as_matrix will be removed in a future version. Use .values instead.\n",
      "  \"\"\"Entry point for launching an IPython kernel.\n"
     ]
    },
    {
     "data": {
      "text/plain": [
       "array([15, 17, 11, 12, 14, 12, 15, 11, 13, 10, 12, 17, 10, 14, 12, 11, 16,\n",
       "       12, 11, 10, 12, 11, 15, 11, 11, 14, 15, 11, 17, 10, 10, 11, 11, 19,\n",
       "        8, 13, 16, 14, 10, 12, 12, 14, 10, 13, 14, 11, 15, 10, 15, 12, 13,\n",
       "       12, 10, 11, 10, 11, 10, 14, 10, 11, 11, 11, 13, 19, 14, 14,  8, 12,\n",
       "       11, 11, 11, 16, 13, 12, 12, 18, 12, 16, 11,  8,  8, 12, 18,  9, 16,\n",
       "       13,  9, 16,  9, 11, 16, 13,  8, 14, 15, 10, 11, 12, 16, 14],\n",
       "      dtype=int64)"
      ]
     },
     "execution_count": 66,
     "metadata": {},
     "output_type": "execute_result"
    }
   ],
   "source": [
    "output.as_matrix()"
   ]
  },
  {
   "cell_type": "code",
   "execution_count": 76,
   "metadata": {},
   "outputs": [
    {
     "name": "stdout",
     "output_type": "stream",
     "text": [
      "WARNING:tensorflow:Falling back from v2 loop because of error: Failed to find data adapter that can handle input: <class 'pandas.core.frame.DataFrame'>, <class 'NoneType'>\n"
     ]
    },
    {
     "name": "stderr",
     "output_type": "stream",
     "text": [
      "C:\\Users\\Gareth Duffy\\Anaconda3\\lib\\site-packages\\ipykernel_launcher.py:3: FutureWarning: Method .as_matrix will be removed in a future version. Use .values instead.\n",
      "  This is separate from the ipykernel package so we can avoid doing imports until\n"
     ]
    },
    {
     "data": {
      "text/plain": [
       "2.8272018432617188"
      ]
     },
     "execution_count": 76,
     "metadata": {},
     "output_type": "execute_result"
    }
   ],
   "source": [
    "# .T transposes into a list\n",
    "# print out the mse:\n",
    "np.sqrt(np.sum(m.predict(inputs).T - output.as_matrix())**2) # outputs the differences"
   ]
  },
  {
   "cell_type": "markdown",
   "metadata": {},
   "source": [
    "mean sq error: The difference between what the NN is predicting and the actual values i want to predict\n",
    "\n"
   ]
  },
  {
   "cell_type": "markdown",
   "metadata": {},
   "source": [
    "comapare the output matrix values to the m.predict(inputs) and thats how you know how accurate it is (loss functio too should be approaching 0)"
   ]
  },
  {
   "cell_type": "code",
   "execution_count": 77,
   "metadata": {},
   "outputs": [
    {
     "data": {
      "text/plain": [
       "<matplotlib.legend.Legend at 0x19bfaa513c8>"
      ]
     },
     "execution_count": 77,
     "metadata": {},
     "output_type": "execute_result"
    },
    {
     "data": {
      "image/png": "[encoded data removed]",
      "text/plain": [
       "<Figure size 432x288 with 1 Axes>"
      ]
     },
     "metadata": {
      "needs_background": "light"
     },
     "output_type": "display_data"
    }
   ],
   "source": [
    "# Output or predicted vs original as plots:\n",
    "import matplotlib.pyplot as plt\n",
    "\n",
    "plt.plot(inputs, p, 'r-', label='Prediction')\n",
    "plt.plot(inputs, output, 'k:', label='Original')\n",
    "plt.legend()"
   ]
  },
  {
   "cell_type": "code",
   "execution_count": null,
   "metadata": {},
   "outputs": [],
   "source": []
  }
 ],
 "metadata": {
  "kernelspec": {
   "display_name": "Python 3",
   "language": "python",
   "name": "python3"
  },
  "language_info": {
   "codemirror_mode": {
    "name": "ipython",
    "version": 3
   },
   "file_extension": ".py",
   "mimetype": "text/x-python",
   "name": "python",
   "nbconvert_exporter": "python",
   "pygments_lexer": "ipython3",
   "version": "3.7.5"
  }
 },
 "nbformat": 4,
 "nbformat_minor": 2
}
